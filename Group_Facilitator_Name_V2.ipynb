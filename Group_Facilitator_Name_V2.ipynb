{
 "cells": [
  {
   "cell_type": "markdown",
   "metadata": {},
   "source": [
    "# Importing Required Libraries & Datasets"
   ]
  },
  {
   "cell_type": "code",
   "execution_count": 244,
   "metadata": {},
   "outputs": [],
   "source": [
    "import pandas as pd\n",
    "import numpy as np\n",
    "import matplotlib.pyplot as plt\n",
    "import seaborn as sns\n",
    "import re"
   ]
  },
  {
   "cell_type": "code",
   "execution_count": 245,
   "metadata": {},
   "outputs": [],
   "source": [
    "sns.set(rc={'figure.figsize':(15,10)})"
   ]
  },
  {
   "cell_type": "code",
   "execution_count": 246,
   "metadata": {},
   "outputs": [],
   "source": [
    "raw_data = pd.read_csv('loan.csv', index_col='id')"
   ]
  },
  {
   "cell_type": "code",
   "execution_count": 247,
   "metadata": {},
   "outputs": [
    {
     "data": {
      "text/html": [
       "<div>\n",
       "<style scoped>\n",
       "    .dataframe tbody tr th:only-of-type {\n",
       "        vertical-align: middle;\n",
       "    }\n",
       "\n",
       "    .dataframe tbody tr th {\n",
       "        vertical-align: top;\n",
       "    }\n",
       "\n",
       "    .dataframe thead th {\n",
       "        text-align: right;\n",
       "    }\n",
       "</style>\n",
       "<table border=\"1\" class=\"dataframe\">\n",
       "  <thead>\n",
       "    <tr style=\"text-align: right;\">\n",
       "      <th></th>\n",
       "      <th>member_id</th>\n",
       "      <th>loan_amnt</th>\n",
       "      <th>funded_amnt</th>\n",
       "      <th>funded_amnt_inv</th>\n",
       "      <th>term</th>\n",
       "      <th>int_rate</th>\n",
       "      <th>installment</th>\n",
       "      <th>grade</th>\n",
       "      <th>sub_grade</th>\n",
       "      <th>emp_title</th>\n",
       "      <th>...</th>\n",
       "      <th>num_tl_90g_dpd_24m</th>\n",
       "      <th>num_tl_op_past_12m</th>\n",
       "      <th>pct_tl_nvr_dlq</th>\n",
       "      <th>percent_bc_gt_75</th>\n",
       "      <th>pub_rec_bankruptcies</th>\n",
       "      <th>tax_liens</th>\n",
       "      <th>tot_hi_cred_lim</th>\n",
       "      <th>total_bal_ex_mort</th>\n",
       "      <th>total_bc_limit</th>\n",
       "      <th>total_il_high_credit_limit</th>\n",
       "    </tr>\n",
       "    <tr>\n",
       "      <th>id</th>\n",
       "      <th></th>\n",
       "      <th></th>\n",
       "      <th></th>\n",
       "      <th></th>\n",
       "      <th></th>\n",
       "      <th></th>\n",
       "      <th></th>\n",
       "      <th></th>\n",
       "      <th></th>\n",
       "      <th></th>\n",
       "      <th></th>\n",
       "      <th></th>\n",
       "      <th></th>\n",
       "      <th></th>\n",
       "      <th></th>\n",
       "      <th></th>\n",
       "      <th></th>\n",
       "      <th></th>\n",
       "      <th></th>\n",
       "      <th></th>\n",
       "      <th></th>\n",
       "    </tr>\n",
       "  </thead>\n",
       "  <tbody>\n",
       "    <tr>\n",
       "      <th>312505</th>\n",
       "      <td>312443</td>\n",
       "      <td>500</td>\n",
       "      <td>500</td>\n",
       "      <td>450.0</td>\n",
       "      <td>36 months</td>\n",
       "      <td>9.76%</td>\n",
       "      <td>16.08</td>\n",
       "      <td>B</td>\n",
       "      <td>B2</td>\n",
       "      <td>Hughes, Hubbard &amp; Reed LLP</td>\n",
       "      <td>...</td>\n",
       "      <td>NaN</td>\n",
       "      <td>NaN</td>\n",
       "      <td>NaN</td>\n",
       "      <td>NaN</td>\n",
       "      <td>0.0</td>\n",
       "      <td>0.0</td>\n",
       "      <td>NaN</td>\n",
       "      <td>NaN</td>\n",
       "      <td>NaN</td>\n",
       "      <td>NaN</td>\n",
       "    </tr>\n",
       "    <tr>\n",
       "      <th>242695</th>\n",
       "      <td>242682</td>\n",
       "      <td>500</td>\n",
       "      <td>500</td>\n",
       "      <td>500.0</td>\n",
       "      <td>36 months</td>\n",
       "      <td>10.71%</td>\n",
       "      <td>16.31</td>\n",
       "      <td>B</td>\n",
       "      <td>B5</td>\n",
       "      <td>NaN</td>\n",
       "      <td>...</td>\n",
       "      <td>NaN</td>\n",
       "      <td>NaN</td>\n",
       "      <td>NaN</td>\n",
       "      <td>NaN</td>\n",
       "      <td>NaN</td>\n",
       "      <td>0.0</td>\n",
       "      <td>NaN</td>\n",
       "      <td>NaN</td>\n",
       "      <td>NaN</td>\n",
       "      <td>NaN</td>\n",
       "    </tr>\n",
       "    <tr>\n",
       "      <th>216698</th>\n",
       "      <td>174214</td>\n",
       "      <td>500</td>\n",
       "      <td>500</td>\n",
       "      <td>500.0</td>\n",
       "      <td>36 months</td>\n",
       "      <td>10.46%</td>\n",
       "      <td>16.25</td>\n",
       "      <td>B</td>\n",
       "      <td>B5</td>\n",
       "      <td>THe University of Illinois</td>\n",
       "      <td>...</td>\n",
       "      <td>NaN</td>\n",
       "      <td>NaN</td>\n",
       "      <td>NaN</td>\n",
       "      <td>NaN</td>\n",
       "      <td>NaN</td>\n",
       "      <td>0.0</td>\n",
       "      <td>NaN</td>\n",
       "      <td>NaN</td>\n",
       "      <td>NaN</td>\n",
       "      <td>NaN</td>\n",
       "    </tr>\n",
       "    <tr>\n",
       "      <th>211133</th>\n",
       "      <td>210644</td>\n",
       "      <td>500</td>\n",
       "      <td>500</td>\n",
       "      <td>475.0</td>\n",
       "      <td>36 months</td>\n",
       "      <td>11.41%</td>\n",
       "      <td>16.47</td>\n",
       "      <td>C</td>\n",
       "      <td>C3</td>\n",
       "      <td>Global Travel International -and- Global Domai...</td>\n",
       "      <td>...</td>\n",
       "      <td>NaN</td>\n",
       "      <td>NaN</td>\n",
       "      <td>NaN</td>\n",
       "      <td>NaN</td>\n",
       "      <td>NaN</td>\n",
       "      <td>0.0</td>\n",
       "      <td>NaN</td>\n",
       "      <td>NaN</td>\n",
       "      <td>NaN</td>\n",
       "      <td>NaN</td>\n",
       "    </tr>\n",
       "    <tr>\n",
       "      <th>164346</th>\n",
       "      <td>163835</td>\n",
       "      <td>500</td>\n",
       "      <td>500</td>\n",
       "      <td>400.0</td>\n",
       "      <td>36 months</td>\n",
       "      <td>8.07%</td>\n",
       "      <td>15.69</td>\n",
       "      <td>A</td>\n",
       "      <td>A4</td>\n",
       "      <td>NaN</td>\n",
       "      <td>...</td>\n",
       "      <td>NaN</td>\n",
       "      <td>NaN</td>\n",
       "      <td>NaN</td>\n",
       "      <td>NaN</td>\n",
       "      <td>NaN</td>\n",
       "      <td>0.0</td>\n",
       "      <td>NaN</td>\n",
       "      <td>NaN</td>\n",
       "      <td>NaN</td>\n",
       "      <td>NaN</td>\n",
       "    </tr>\n",
       "    <tr>\n",
       "      <th>306018</th>\n",
       "      <td>305720</td>\n",
       "      <td>700</td>\n",
       "      <td>700</td>\n",
       "      <td>700.0</td>\n",
       "      <td>36 months</td>\n",
       "      <td>12.29%</td>\n",
       "      <td>23.35</td>\n",
       "      <td>C</td>\n",
       "      <td>C5</td>\n",
       "      <td>SDSU Residential Life</td>\n",
       "      <td>...</td>\n",
       "      <td>NaN</td>\n",
       "      <td>NaN</td>\n",
       "      <td>NaN</td>\n",
       "      <td>NaN</td>\n",
       "      <td>0.0</td>\n",
       "      <td>0.0</td>\n",
       "      <td>NaN</td>\n",
       "      <td>NaN</td>\n",
       "      <td>NaN</td>\n",
       "      <td>NaN</td>\n",
       "    </tr>\n",
       "    <tr>\n",
       "      <th>311591</th>\n",
       "      <td>311571</td>\n",
       "      <td>725</td>\n",
       "      <td>725</td>\n",
       "      <td>650.0</td>\n",
       "      <td>36 months</td>\n",
       "      <td>7.37%</td>\n",
       "      <td>22.51</td>\n",
       "      <td>A</td>\n",
       "      <td>A1</td>\n",
       "      <td>Team Awesome Productions, Inc.</td>\n",
       "      <td>...</td>\n",
       "      <td>NaN</td>\n",
       "      <td>NaN</td>\n",
       "      <td>NaN</td>\n",
       "      <td>NaN</td>\n",
       "      <td>0.0</td>\n",
       "      <td>0.0</td>\n",
       "      <td>NaN</td>\n",
       "      <td>NaN</td>\n",
       "      <td>NaN</td>\n",
       "      <td>NaN</td>\n",
       "    </tr>\n",
       "  </tbody>\n",
       "</table>\n",
       "<p>7 rows × 110 columns</p>\n",
       "</div>"
      ],
      "text/plain": [
       "        member_id  loan_amnt  funded_amnt  funded_amnt_inv        term  \\\n",
       "id                                                                       \n",
       "312505     312443        500          500            450.0   36 months   \n",
       "242695     242682        500          500            500.0   36 months   \n",
       "216698     174214        500          500            500.0   36 months   \n",
       "211133     210644        500          500            475.0   36 months   \n",
       "164346     163835        500          500            400.0   36 months   \n",
       "306018     305720        700          700            700.0   36 months   \n",
       "311591     311571        725          725            650.0   36 months   \n",
       "\n",
       "       int_rate  installment grade sub_grade  \\\n",
       "id                                             \n",
       "312505    9.76%        16.08     B        B2   \n",
       "242695   10.71%        16.31     B        B5   \n",
       "216698   10.46%        16.25     B        B5   \n",
       "211133   11.41%        16.47     C        C3   \n",
       "164346    8.07%        15.69     A        A4   \n",
       "306018   12.29%        23.35     C        C5   \n",
       "311591    7.37%        22.51     A        A1   \n",
       "\n",
       "                                                emp_title  ...  \\\n",
       "id                                                         ...   \n",
       "312505                         Hughes, Hubbard & Reed LLP  ...   \n",
       "242695                                                NaN  ...   \n",
       "216698                         THe University of Illinois  ...   \n",
       "211133  Global Travel International -and- Global Domai...  ...   \n",
       "164346                                                NaN  ...   \n",
       "306018                              SDSU Residential Life  ...   \n",
       "311591                     Team Awesome Productions, Inc.  ...   \n",
       "\n",
       "       num_tl_90g_dpd_24m num_tl_op_past_12m  pct_tl_nvr_dlq percent_bc_gt_75  \\\n",
       "id                                                                              \n",
       "312505                NaN                NaN             NaN              NaN   \n",
       "242695                NaN                NaN             NaN              NaN   \n",
       "216698                NaN                NaN             NaN              NaN   \n",
       "211133                NaN                NaN             NaN              NaN   \n",
       "164346                NaN                NaN             NaN              NaN   \n",
       "306018                NaN                NaN             NaN              NaN   \n",
       "311591                NaN                NaN             NaN              NaN   \n",
       "\n",
       "       pub_rec_bankruptcies tax_liens tot_hi_cred_lim total_bal_ex_mort  \\\n",
       "id                                                                        \n",
       "312505                  0.0       0.0             NaN               NaN   \n",
       "242695                  NaN       0.0             NaN               NaN   \n",
       "216698                  NaN       0.0             NaN               NaN   \n",
       "211133                  NaN       0.0             NaN               NaN   \n",
       "164346                  NaN       0.0             NaN               NaN   \n",
       "306018                  0.0       0.0             NaN               NaN   \n",
       "311591                  0.0       0.0             NaN               NaN   \n",
       "\n",
       "       total_bc_limit total_il_high_credit_limit  \n",
       "id                                                \n",
       "312505            NaN                        NaN  \n",
       "242695            NaN                        NaN  \n",
       "216698            NaN                        NaN  \n",
       "211133            NaN                        NaN  \n",
       "164346            NaN                        NaN  \n",
       "306018            NaN                        NaN  \n",
       "311591            NaN                        NaN  \n",
       "\n",
       "[7 rows x 110 columns]"
      ]
     },
     "execution_count": 247,
     "metadata": {},
     "output_type": "execute_result"
    }
   ],
   "source": [
    "raw_data.head(7)"
   ]
  },
  {
   "cell_type": "markdown",
   "metadata": {},
   "source": [
    "# 1. Cleaning Data"
   ]
  },
  {
   "cell_type": "markdown",
   "metadata": {},
   "source": [
    "### This step involves cleaning data and converting them into respective formats which can be easily considered for quick calculations"
   ]
  },
  {
   "cell_type": "code",
   "execution_count": 248,
   "metadata": {},
   "outputs": [
    {
     "name": "stdout",
     "output_type": "stream",
     "text": [
      "member_id ==> int64\n",
      "loan_amnt ==> int64\n",
      "funded_amnt ==> int64\n",
      "funded_amnt_inv ==> float64\n",
      "term ==> object\n",
      "int_rate ==> object\n",
      "installment ==> float64\n",
      "grade ==> object\n",
      "sub_grade ==> object\n",
      "emp_title ==> object\n",
      "emp_length ==> object\n",
      "home_ownership ==> object\n",
      "annual_inc ==> float64\n",
      "verification_status ==> object\n",
      "issue_d ==> object\n",
      "loan_status ==> object\n",
      "pymnt_plan ==> object\n",
      "url ==> object\n",
      "desc ==> object\n",
      "purpose ==> object\n",
      "title ==> object\n",
      "zip_code ==> object\n",
      "addr_state ==> object\n",
      "dti ==> float64\n",
      "delinq_2yrs ==> int64\n",
      "earliest_cr_line ==> object\n",
      "inq_last_6mths ==> int64\n",
      "mths_since_last_delinq ==> float64\n",
      "mths_since_last_record ==> float64\n",
      "open_acc ==> int64\n",
      "pub_rec ==> int64\n",
      "revol_bal ==> int64\n",
      "revol_util ==> object\n",
      "total_acc ==> int64\n",
      "initial_list_status ==> object\n",
      "out_prncp ==> float64\n",
      "out_prncp_inv ==> float64\n",
      "total_pymnt ==> float64\n",
      "total_pymnt_inv ==> float64\n",
      "total_rec_prncp ==> float64\n",
      "total_rec_int ==> float64\n",
      "total_rec_late_fee ==> float64\n",
      "recoveries ==> float64\n",
      "collection_recovery_fee ==> float64\n",
      "last_pymnt_d ==> object\n",
      "last_pymnt_amnt ==> float64\n",
      "next_pymnt_d ==> object\n",
      "last_credit_pull_d ==> object\n",
      "collections_12_mths_ex_med ==> float64\n",
      "mths_since_last_major_derog ==> float64\n",
      "policy_code ==> int64\n",
      "application_type ==> object\n",
      "annual_inc_joint ==> float64\n",
      "dti_joint ==> float64\n",
      "verification_status_joint ==> float64\n",
      "acc_now_delinq ==> int64\n",
      "tot_coll_amt ==> float64\n",
      "tot_cur_bal ==> float64\n",
      "open_acc_6m ==> float64\n",
      "open_il_6m ==> float64\n",
      "open_il_12m ==> float64\n",
      "open_il_24m ==> float64\n",
      "mths_since_rcnt_il ==> float64\n",
      "total_bal_il ==> float64\n",
      "il_util ==> float64\n",
      "open_rv_12m ==> float64\n",
      "open_rv_24m ==> float64\n",
      "max_bal_bc ==> float64\n",
      "all_util ==> float64\n",
      "total_rev_hi_lim ==> float64\n",
      "inq_fi ==> float64\n",
      "total_cu_tl ==> float64\n",
      "inq_last_12m ==> float64\n",
      "acc_open_past_24mths ==> float64\n",
      "avg_cur_bal ==> float64\n",
      "bc_open_to_buy ==> float64\n",
      "bc_util ==> float64\n",
      "chargeoff_within_12_mths ==> float64\n",
      "delinq_amnt ==> int64\n",
      "mo_sin_old_il_acct ==> float64\n",
      "mo_sin_old_rev_tl_op ==> float64\n",
      "mo_sin_rcnt_rev_tl_op ==> float64\n",
      "mo_sin_rcnt_tl ==> float64\n",
      "mort_acc ==> float64\n",
      "mths_since_recent_bc ==> float64\n",
      "mths_since_recent_bc_dlq ==> float64\n",
      "mths_since_recent_inq ==> float64\n",
      "mths_since_recent_revol_delinq ==> float64\n",
      "num_accts_ever_120_pd ==> float64\n",
      "num_actv_bc_tl ==> float64\n",
      "num_actv_rev_tl ==> float64\n",
      "num_bc_sats ==> float64\n",
      "num_bc_tl ==> float64\n",
      "num_il_tl ==> float64\n",
      "num_op_rev_tl ==> float64\n",
      "num_rev_accts ==> float64\n",
      "num_rev_tl_bal_gt_0 ==> float64\n",
      "num_sats ==> float64\n",
      "num_tl_120dpd_2m ==> float64\n",
      "num_tl_30dpd ==> float64\n",
      "num_tl_90g_dpd_24m ==> float64\n",
      "num_tl_op_past_12m ==> float64\n",
      "pct_tl_nvr_dlq ==> float64\n",
      "percent_bc_gt_75 ==> float64\n",
      "pub_rec_bankruptcies ==> float64\n",
      "tax_liens ==> float64\n",
      "tot_hi_cred_lim ==> float64\n",
      "total_bal_ex_mort ==> float64\n",
      "total_bc_limit ==> float64\n",
      "total_il_high_credit_limit ==> float64\n"
     ]
    }
   ],
   "source": [
    "for a in raw_data.columns:\n",
    "    print(a, '==>', raw_data[a].dtypes)"
   ]
  },
  {
   "cell_type": "markdown",
   "metadata": {},
   "source": [
    "### 1.1 Formatting Loan Term Column"
   ]
  },
  {
   "cell_type": "code",
   "execution_count": 249,
   "metadata": {},
   "outputs": [],
   "source": [
    "def extract_valid_month_from_months_column(row):\n",
    "    row = re.sub('[A-Za-z, ]', '', str(row))\n",
    "    return int(row)"
   ]
  },
  {
   "cell_type": "code",
   "execution_count": 250,
   "metadata": {},
   "outputs": [],
   "source": [
    "raw_data['term'] = raw_data.term.apply(extract_valid_month_from_months_column)"
   ]
  },
  {
   "cell_type": "markdown",
   "metadata": {},
   "source": [
    "### 1.2 Formatting Interest Column to Float Value"
   ]
  },
  {
   "cell_type": "code",
   "execution_count": 251,
   "metadata": {},
   "outputs": [],
   "source": [
    "def extract_valid_float_from_interest_column(row):\n",
    "    row = re.sub('[%, ]', '', str(row))\n",
    "    return float(row)"
   ]
  },
  {
   "cell_type": "code",
   "execution_count": 252,
   "metadata": {},
   "outputs": [],
   "source": [
    "raw_data['int_rate'] = raw_data.int_rate.apply(extract_valid_float_from_interest_column)"
   ]
  },
  {
   "cell_type": "markdown",
   "metadata": {},
   "source": [
    "### 1.3 Formatting Sub-Grade Column"
   ]
  },
  {
   "cell_type": "markdown",
   "metadata": {},
   "source": [
    "##### While comparing Grade & Sub-Grade column, it is observed that, alphabet in Sub-Grade column is same as alphabet in Grade Column. This can be verified by printing rows where value of \"Grade\" column is not equal to alphabet in \"Sub-Grade\" column. (If there are no values i.e. count is zero, while comparing this, we can be assured to drop alphabet from Sub-Grade column)"
   ]
  },
  {
   "cell_type": "code",
   "execution_count": 253,
   "metadata": {},
   "outputs": [
    {
     "data": {
      "text/plain": [
       "0"
      ]
     },
     "execution_count": 253,
     "metadata": {},
     "output_type": "execute_result"
    }
   ],
   "source": [
    "raw_data[raw_data['grade'] != raw_data.sub_grade.apply(lambda x: x[:1])].grade.count()"
   ]
  },
  {
   "cell_type": "markdown",
   "metadata": {},
   "source": [
    "##### So, we will proceed ahead with dropping the alphabet from Sub-Grade column"
   ]
  },
  {
   "cell_type": "code",
   "execution_count": 254,
   "metadata": {},
   "outputs": [],
   "source": [
    "def remove_alphabet_from_sub_grade_column(row):\n",
    "    row = re.sub('[A-Za-z]', '', str(row))\n",
    "    return int(row)"
   ]
  },
  {
   "cell_type": "code",
   "execution_count": 255,
   "metadata": {},
   "outputs": [],
   "source": [
    "raw_data['sub_grade'] = raw_data.sub_grade.apply(remove_alphabet_from_sub_grade_column)"
   ]
  },
  {
   "cell_type": "markdown",
   "metadata": {},
   "source": [
    "### 1.4 Formatting Employee Length (Years of Experience) Column"
   ]
  },
  {
   "cell_type": "code",
   "execution_count": 256,
   "metadata": {},
   "outputs": [],
   "source": [
    "def clean_employee_length_column(row):\n",
    "    row = re.sub('[A-Za-z, ]', '', str(row))\n",
    "    if row == '<1':\n",
    "        return 0\n",
    "    elif row == '10+':\n",
    "        return 10\n",
    "    elif row == '':\n",
    "        return np.nan\n",
    "    else:\n",
    "        return float(row)"
   ]
  },
  {
   "cell_type": "code",
   "execution_count": 257,
   "metadata": {
    "scrolled": true
   },
   "outputs": [],
   "source": [
    "raw_data['emp_length'] = raw_data.emp_length.apply(clean_employee_length_column)"
   ]
  },
  {
   "cell_type": "markdown",
   "metadata": {},
   "source": [
    "### 1.5 Formatting Ownership Column (Creating new mapped column)"
   ]
  },
  {
   "cell_type": "code",
   "execution_count": 258,
   "metadata": {},
   "outputs": [],
   "source": [
    "ownership_status_list = list(raw_data.home_ownership.unique())\n",
    "ownership_status_list.sort()"
   ]
  },
  {
   "cell_type": "code",
   "execution_count": 259,
   "metadata": {},
   "outputs": [
    {
     "data": {
      "text/plain": [
       "{'MORTGAGE': 0, 'NONE': 1, 'OTHER': 2, 'OWN': 3, 'RENT': 4}"
      ]
     },
     "execution_count": 259,
     "metadata": {},
     "output_type": "execute_result"
    }
   ],
   "source": [
    "ownership_dict = {value: index for index, value in enumerate(ownership_status_list)}\n",
    "ownership_dict"
   ]
  },
  {
   "cell_type": "code",
   "execution_count": 260,
   "metadata": {},
   "outputs": [],
   "source": [
    "raw_data['home_ownership_mapped'] = raw_data.home_ownership.map(ownership_dict)"
   ]
  },
  {
   "cell_type": "markdown",
   "metadata": {},
   "source": [
    "### 1.6 Formatting Salary Verification Column (Creating new mapped column)"
   ]
  },
  {
   "cell_type": "code",
   "execution_count": 261,
   "metadata": {},
   "outputs": [],
   "source": [
    "salary_verify_status_list = list(raw_data.verification_status.unique())\n",
    "salary_verify_status_list.sort()"
   ]
  },
  {
   "cell_type": "code",
   "execution_count": 262,
   "metadata": {},
   "outputs": [
    {
     "data": {
      "text/plain": [
       "{'Not Verified': 0, 'Source Verified': 1, 'Verified': 2}"
      ]
     },
     "execution_count": 262,
     "metadata": {},
     "output_type": "execute_result"
    }
   ],
   "source": [
    "income_verification_dict = {value: index for index, value in enumerate(salary_verify_status_list)}\n",
    "income_verification_dict"
   ]
  },
  {
   "cell_type": "code",
   "execution_count": 263,
   "metadata": {},
   "outputs": [],
   "source": [
    "raw_data['verification_status_mapped'] = raw_data.verification_status.map(income_verification_dict)"
   ]
  },
  {
   "cell_type": "markdown",
   "metadata": {},
   "source": [
    "### 1.7 Formatting Loan Issue Date to datetime object"
   ]
  },
  {
   "cell_type": "code",
   "execution_count": 264,
   "metadata": {},
   "outputs": [],
   "source": [
    "raw_data['issue_d'] = pd.to_datetime(raw_data.issue_d, format='%b-%y')"
   ]
  },
  {
   "cell_type": "markdown",
   "metadata": {},
   "source": [
    "### 1.8 Formatting Loan Status Column (Creating new mapped column)"
   ]
  },
  {
   "cell_type": "code",
   "execution_count": 265,
   "metadata": {},
   "outputs": [],
   "source": [
    "loan_status_list = list(raw_data.loan_status.unique())\n",
    "loan_status_list.sort()"
   ]
  },
  {
   "cell_type": "code",
   "execution_count": 266,
   "metadata": {},
   "outputs": [
    {
     "data": {
      "text/plain": [
       "{'Charged Off': 0, 'Current': 1, 'Fully Paid': 2}"
      ]
     },
     "execution_count": 266,
     "metadata": {},
     "output_type": "execute_result"
    }
   ],
   "source": [
    "loan_status_dict = {value: index for index, value in enumerate(loan_status_list)}\n",
    "loan_status_dict"
   ]
  },
  {
   "cell_type": "code",
   "execution_count": 267,
   "metadata": {},
   "outputs": [],
   "source": [
    "raw_data['loan_status_mapped'] = raw_data.loan_status.map(loan_status_dict)"
   ]
  },
  {
   "cell_type": "markdown",
   "metadata": {},
   "source": [
    "### 1.9 Payment Plan Column can be dropped off, as all the records in this column contains same value"
   ]
  },
  {
   "cell_type": "code",
   "execution_count": 268,
   "metadata": {},
   "outputs": [],
   "source": [
    "if 'pymnt_plan' in raw_data.columns:\n",
    "    raw_data = raw_data.drop(columns=['pymnt_plan'])"
   ]
  },
  {
   "cell_type": "markdown",
   "metadata": {},
   "source": [
    "### 1.10 Formatting Purpose Column"
   ]
  },
  {
   "cell_type": "code",
   "execution_count": 269,
   "metadata": {},
   "outputs": [],
   "source": [
    "raw_data['purpose'] = raw_data.purpose.apply(lambda x: x.replace('_', ' ').title())"
   ]
  },
  {
   "cell_type": "markdown",
   "metadata": {},
   "source": [
    "### 1.11 Mapping Address State Column With Complete State Name"
   ]
  },
  {
   "cell_type": "markdown",
   "metadata": {},
   "source": [
    "##### Creating a dictionary of all the states In US and their respective state abbreviation"
   ]
  },
  {
   "cell_type": "code",
   "execution_count": 270,
   "metadata": {},
   "outputs": [],
   "source": [
    "full_state_list = {'AL': 'Alabama', 'AK': 'Alaska', 'AZ': 'Arizona', 'AR': 'Arkansas', 'CA': 'California', 'CO': 'Colorado', 'CT': 'Connecticut', 'DE': 'Delaware', 'FL': 'Florida', 'GA': 'Georgia', 'HI': 'Hawaii', 'ID': 'Idaho', 'IL': 'Illinois', 'IN': 'Indiana', 'IA': 'Iowa', 'KS': 'Kansas', 'KY': 'Kentucky', 'LA': 'Louisiana', 'ME': 'Maine', 'MD': 'Maryland', 'MA': 'Massachusetts', 'MI': 'Michigan', 'MN': 'Minnesota', 'MS': 'Mississippi', 'MO': 'Missouri', 'MT': 'Montana', 'NE': 'Nebraska', 'NV': 'Nevada', 'NH': 'New Hampshire', 'NJ': 'New Jersey', 'NM': 'New Mexico', 'NY': 'New York', 'NC': 'North Carolina', 'ND': 'North Dakota', 'OH': 'Ohio', 'OK': 'Oklahoma', 'OR': 'Oregon', 'PA': 'Pennsylvania', 'RI': 'Rhode Island', 'SC': 'South Carolina', 'SD': 'South Dakota', 'TN': 'Tennessee', 'TX': 'Texas', 'UT': 'Utah', 'VT': 'Vermont', 'VA': 'Virginia', 'WA': 'Washington', 'WV': 'West Virginia', 'WI': 'Wisconsin', 'WY': 'Wyoming'}"
   ]
  },
  {
   "cell_type": "code",
   "execution_count": 271,
   "metadata": {},
   "outputs": [],
   "source": [
    "raw_data['addr_state_name'] = raw_data.addr_state.map(full_state_list)"
   ]
  },
  {
   "cell_type": "markdown",
   "metadata": {},
   "source": [
    "### 1.12 Formatting Earliest Credit Line Column to Valid Date object"
   ]
  },
  {
   "cell_type": "code",
   "execution_count": 272,
   "metadata": {},
   "outputs": [],
   "source": [
    "raw_data['earliest_cr_line'] = pd.to_datetime(raw_data.earliest_cr_line, format='%b-%y')"
   ]
  },
  {
   "cell_type": "code",
   "execution_count": 273,
   "metadata": {},
   "outputs": [
    {
     "name": "stderr",
     "output_type": "stream",
     "text": [
      "<ipython-input-273-ddce41ebc1d2>:1: FutureWarning: Treating datetime data as categorical rather than numeric in `.describe` is deprecated and will be removed in a future version of pandas. Specify `datetime_is_numeric=True` to silence this warning and adopt the future behavior now.\n",
      "  raw_data.earliest_cr_line.describe()\n"
     ]
    },
    {
     "data": {
      "text/plain": [
       "count                   39717\n",
       "unique                    526\n",
       "top       1998-11-01 00:00:00\n",
       "freq                      370\n",
       "first     1969-02-01 00:00:00\n",
       "last      2068-12-01 00:00:00\n",
       "Name: earliest_cr_line, dtype: object"
      ]
     },
     "execution_count": 273,
     "metadata": {},
     "output_type": "execute_result"
    }
   ],
   "source": [
    "raw_data.earliest_cr_line.describe()"
   ]
  },
  {
   "cell_type": "markdown",
   "metadata": {},
   "source": [
    "### 1.13 Formatting Months Since Last Delinq(Default) & Months Since Last Record Column to Valid format"
   ]
  },
  {
   "cell_type": "code",
   "execution_count": 274,
   "metadata": {},
   "outputs": [],
   "source": [
    "def clean_months_since_last_column(row):\n",
    "    if type(row) == str:\n",
    "        return np.nan\n",
    "    else:\n",
    "        return float(row)"
   ]
  },
  {
   "cell_type": "code",
   "execution_count": 275,
   "metadata": {},
   "outputs": [],
   "source": [
    "raw_data['mths_since_last_delinq'] = raw_data.mths_since_last_delinq.apply(clean_months_since_last_column)"
   ]
  },
  {
   "cell_type": "code",
   "execution_count": 276,
   "metadata": {},
   "outputs": [],
   "source": [
    "raw_data['mths_since_last_record'] = raw_data.mths_since_last_record.apply(clean_months_since_last_column)"
   ]
  },
  {
   "cell_type": "markdown",
   "metadata": {},
   "source": [
    "### 1.14 Formatting Months Since Last Delinq(Default) & Months Since Last Record Column to Valid format"
   ]
  },
  {
   "cell_type": "code",
   "execution_count": 277,
   "metadata": {},
   "outputs": [],
   "source": [
    "raw_data['revol_util'] = raw_data.revol_util.apply(extract_valid_float_from_interest_column)"
   ]
  },
  {
   "cell_type": "markdown",
   "metadata": {},
   "source": [
    "### 1.15 Initial Status Column can be dropped off, as all the records in this column contains same value."
   ]
  },
  {
   "cell_type": "code",
   "execution_count": 278,
   "metadata": {},
   "outputs": [],
   "source": [
    "if 'initial_list_status' in raw_data.columns:\n",
    "    raw_data = raw_data.drop(columns=['initial_list_status'])"
   ]
  },
  {
   "cell_type": "code",
   "execution_count": 279,
   "metadata": {},
   "outputs": [
    {
     "data": {
      "text/plain": [
       "dtype('float64')"
      ]
     },
     "execution_count": 279,
     "metadata": {},
     "output_type": "execute_result"
    }
   ],
   "source": [
    "raw_data.out_prncp_inv.dtypes"
   ]
  },
  {
   "cell_type": "markdown",
   "metadata": {},
   "source": [
    "### 1.16 Formatting Last Payment, Next Payment & Last Credit Pull Date Column to Valid format"
   ]
  },
  {
   "cell_type": "code",
   "execution_count": 280,
   "metadata": {},
   "outputs": [],
   "source": [
    "raw_data['last_pymnt_d'] = pd.to_datetime(raw_data.last_pymnt_d, format='%b-%y')"
   ]
  },
  {
   "cell_type": "code",
   "execution_count": 281,
   "metadata": {},
   "outputs": [],
   "source": [
    "raw_data['next_pymnt_d'] = pd.to_datetime(raw_data.next_pymnt_d, format='%b-%y')"
   ]
  },
  {
   "cell_type": "code",
   "execution_count": 282,
   "metadata": {},
   "outputs": [],
   "source": [
    "raw_data['last_credit_pull_d'] = pd.to_datetime(raw_data.last_credit_pull_d, format='%b-%y')"
   ]
  },
  {
   "cell_type": "markdown",
   "metadata": {},
   "source": [
    "### 1.17 Application Type Column can be dropped off, as all the records in this column contains same value."
   ]
  },
  {
   "cell_type": "code",
   "execution_count": 283,
   "metadata": {},
   "outputs": [],
   "source": [
    "if 'application_type' in raw_data.columns:\n",
    "    raw_data = raw_data.drop(columns=['application_type'])"
   ]
  },
  {
   "cell_type": "markdown",
   "metadata": {},
   "source": [
    "### 1.18 All the columns after Application Type Column are in the correct format (i.e. float value). Hence, those columns need not have to be cleaned"
   ]
  },
  {
   "cell_type": "markdown",
   "metadata": {},
   "source": [
    "# ==> 2. Comparing Data Between Charged Off & Fully Paid Customers <=="
   ]
  },
  {
   "cell_type": "code",
   "execution_count": 284,
   "metadata": {},
   "outputs": [],
   "source": [
    "charged_off_df = raw_data[raw_data['loan_status'] == 'Charged Off']"
   ]
  },
  {
   "cell_type": "code",
   "execution_count": 285,
   "metadata": {},
   "outputs": [],
   "source": [
    "fully_paid_df = raw_data[raw_data['loan_status'] == 'Fully Paid']"
   ]
  },
  {
   "cell_type": "markdown",
   "metadata": {},
   "source": [
    "### 2.1 Comparing if \"Term\" Column Impacts Defaulter / Paid Status"
   ]
  },
  {
   "cell_type": "code",
   "execution_count": 298,
   "metadata": {},
   "outputs": [
    {
     "data": {
      "text/plain": [
       "loan_status  term\n",
       "Charged Off  36       3227\n",
       "             60       2400\n",
       "Current      60       1140\n",
       "Fully Paid   36      25869\n",
       "             60       7081\n",
       "Name: term, dtype: int64"
      ]
     },
     "execution_count": 298,
     "metadata": {},
     "output_type": "execute_result"
    }
   ],
   "source": [
    "# charged_off = charged_off_df.groupby(by='term').verification_status.count() / len(charged_off_df) * 100\n",
    "# charged_off = charged_off.rename(\"Charged Off\")\n",
    "# fully_paid = fully_paid_df.groupby(by='term').verification_status.count() / len(fully_paid_df) * 100\n",
    "# fully_paid = fully_paid.rename(\"Fully Paid\")\n",
    "# pd.concat([charged_off, fully_paid], axis=1, join='outer')\n",
    "raw_data.groupby(by=['loan_status', 'term']).term.count()"
   ]
  },
  {
   "cell_type": "markdown",
   "metadata": {},
   "source": [
    "### 2.3 Comparing if \"Verification Status\" Column Impacts Defaulter / Paid Status"
   ]
  },
  {
   "cell_type": "code",
   "execution_count": 293,
   "metadata": {},
   "outputs": [
    {
     "data": {
      "text/plain": [
       "loan_status  verification_status\n",
       "Charged Off  Not Verified            2142\n",
       "             Source Verified         1434\n",
       "             Verified                2051\n",
       "Current      Not Verified             227\n",
       "             Source Verified          310\n",
       "             Verified                 603\n",
       "Fully Paid   Not Verified           14552\n",
       "             Source Verified         8243\n",
       "             Verified               10155\n",
       "Name: verification_status, dtype: int64"
      ]
     },
     "execution_count": 293,
     "metadata": {},
     "output_type": "execute_result"
    }
   ],
   "source": [
    "# charged_off = charged_off_df.groupby(by='verification_status').verification_status.count() / len(charged_off_df) * 100\n",
    "# charged_off = charged_off.rename(\"Charged Off\")\n",
    "# fully_paid = fully_paid_df.groupby(by='verification_status').verification_status.count() / len(fully_paid_df) * 100\n",
    "# fully_paid = fully_paid.rename(\"Fully Paid\")\n",
    "# pd.concat([charged_off, fully_paid], axis=1, join='outer')\n",
    "raw_data.groupby(by=['loan_status', 'verification_status']).verification_status.count()"
   ]
  },
  {
   "cell_type": "markdown",
   "metadata": {},
   "source": [
    "##### Note: Values are almost the same for Charged Off & Fully Paid Customers. So it does not provide great insight"
   ]
  },
  {
   "cell_type": "markdown",
   "metadata": {},
   "source": [
    "### 2.4 Comparing if \"Purpose\" Column Impacts Defaulter / Paid Status"
   ]
  },
  {
   "cell_type": "code",
   "execution_count": 299,
   "metadata": {},
   "outputs": [
    {
     "data": {
      "text/plain": [
       "loan_status  purpose           \n",
       "Charged Off  Car                     160\n",
       "             Credit Card             542\n",
       "             Debt Consolidation     2767\n",
       "             Educational              56\n",
       "             Home Improvement        347\n",
       "             House                    59\n",
       "             Major Purchase          222\n",
       "             Medical                 106\n",
       "             Moving                   92\n",
       "             Other                   633\n",
       "             Renewable Energy         19\n",
       "             Small Business          475\n",
       "             Vacation                 53\n",
       "             Wedding                  96\n",
       "Current      Car                      50\n",
       "             Credit Card             103\n",
       "             Debt Consolidation      586\n",
       "             Home Improvement        101\n",
       "             House                    14\n",
       "             Major Purchase           37\n",
       "             Medical                  12\n",
       "             Moving                    7\n",
       "             Other                   128\n",
       "             Renewable Energy          1\n",
       "             Small Business           74\n",
       "             Vacation                  6\n",
       "             Wedding                  21\n",
       "Fully Paid   Car                    1339\n",
       "             Credit Card            4485\n",
       "             Debt Consolidation    15288\n",
       "             Educational             269\n",
       "             Home Improvement       2528\n",
       "             House                   308\n",
       "             Major Purchase         1928\n",
       "             Medical                 575\n",
       "             Moving                  484\n",
       "             Other                  3232\n",
       "             Renewable Energy         83\n",
       "             Small Business         1279\n",
       "             Vacation                322\n",
       "             Wedding                 830\n",
       "Name: purpose, dtype: int64"
      ]
     },
     "execution_count": 299,
     "metadata": {},
     "output_type": "execute_result"
    }
   ],
   "source": [
    "# charged_off = charged_off_df.groupby(by='purpose').purpose.count().sort_values(ascending=False) / len(charged_off_df) * 100\n",
    "# charged_off = charged_off.rename(\"Charged Off\")\n",
    "# fully_paid = fully_paid_df.groupby(by='purpose').purpose.count().sort_values(ascending=False) / len(fully_paid_df) * 100\n",
    "# fully_paid = fully_paid.rename(\"Fully Paid\")\n",
    "# pd.concat([charged_off, fully_paid], axis=1, join='outer')\n",
    "raw_data.groupby(by=['loan_status', 'purpose']).purpose.count()"
   ]
  },
  {
   "cell_type": "markdown",
   "metadata": {},
   "source": [
    "##### Note: Values are almost the same for Charged Off & Fully Paid Customers. So it does not provide great insight"
   ]
  },
  {
   "cell_type": "markdown",
   "metadata": {},
   "source": [
    "### 2.4 Comparing if \"Home Ownership\" Column Impacts Defaulter / Paid Status"
   ]
  },
  {
   "cell_type": "code",
   "execution_count": 300,
   "metadata": {},
   "outputs": [
    {
     "data": {
      "text/plain": [
       "loan_status  home_ownership\n",
       "Charged Off  MORTGAGE           2327\n",
       "             OTHER                18\n",
       "             OWN                 443\n",
       "             RENT               2839\n",
       "Current      MORTGAGE            638\n",
       "             OWN                  83\n",
       "             RENT                419\n",
       "Fully Paid   MORTGAGE          14694\n",
       "             NONE                  3\n",
       "             OTHER                80\n",
       "             OWN                2532\n",
       "             RENT              15641\n",
       "Name: home_ownership, dtype: int64"
      ]
     },
     "execution_count": 300,
     "metadata": {},
     "output_type": "execute_result"
    }
   ],
   "source": [
    "# charged_off = charged_off_df.groupby(by='home_ownership').home_ownership.count().sort_values(ascending=False) / len(charged_off_df) * 100\n",
    "# charged_off = charged_off.rename(\"Charged Off\")\n",
    "# fully_paid = fully_paid_df.groupby(by='home_ownership').home_ownership.count().sort_values(ascending=False) / len(fully_paid_df) * 100\n",
    "# fully_paid = fully_paid.rename(\"Fully Paid\")\n",
    "# pd.concat([charged_off, fully_paid], axis=1, join='outer')\n",
    "raw_data.groupby(by=['loan_status', 'home_ownership']).home_ownership.count()"
   ]
  },
  {
   "cell_type": "markdown",
   "metadata": {},
   "source": [
    "##### Note: Values are almost the same for Charged Off & Fully Paid Customers. So it does not provide great insight"
   ]
  },
  {
   "cell_type": "markdown",
   "metadata": {},
   "source": [
    "### 2.4 Comparing if \"DTI\" Column Impacts Defaulter / Paid Status"
   ]
  },
  {
   "cell_type": "code",
   "execution_count": 301,
   "metadata": {},
   "outputs": [
    {
     "data": {
      "text/plain": [
       "count    5627.000000\n",
       "mean       14.000624\n",
       "std         6.585577\n",
       "min         0.000000\n",
       "25%         9.050000\n",
       "50%        14.290000\n",
       "75%        19.290000\n",
       "max        29.850000\n",
       "Name: dti, dtype: float64"
      ]
     },
     "execution_count": 301,
     "metadata": {},
     "output_type": "execute_result"
    }
   ],
   "source": [
    "charged_off_df.dti.describe()"
   ]
  },
  {
   "cell_type": "code",
   "execution_count": 302,
   "metadata": {},
   "outputs": [
    {
     "data": {
      "text/plain": [
       "count    32950.000000\n",
       "mean        13.148421\n",
       "std          6.680041\n",
       "min          0.000000\n",
       "25%          7.980000\n",
       "50%         13.200000\n",
       "75%         18.390000\n",
       "max         29.990000\n",
       "Name: dti, dtype: float64"
      ]
     },
     "execution_count": 302,
     "metadata": {},
     "output_type": "execute_result"
    }
   ],
   "source": [
    "fully_paid_df.dti.describe()"
   ]
  },
  {
   "cell_type": "code",
   "execution_count": null,
   "metadata": {},
   "outputs": [],
   "source": []
  }
 ],
 "metadata": {
  "kernelspec": {
   "display_name": "Python 3",
   "language": "python",
   "name": "python3"
  },
  "language_info": {
   "codemirror_mode": {
    "name": "ipython",
    "version": 3
   },
   "file_extension": ".py",
   "mimetype": "text/x-python",
   "name": "python",
   "nbconvert_exporter": "python",
   "pygments_lexer": "ipython3",
   "version": "3.8.5"
  }
 },
 "nbformat": 4,
 "nbformat_minor": 4
}
