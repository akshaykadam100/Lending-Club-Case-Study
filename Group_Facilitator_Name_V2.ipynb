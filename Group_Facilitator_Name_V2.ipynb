{
 "cells": [
  {
   "cell_type": "markdown",
   "metadata": {},
   "source": [
    "# Importing Required Libraries & Datasets"
   ]
  },
  {
   "cell_type": "code",
   "execution_count": 217,
   "metadata": {},
   "outputs": [],
   "source": [
    "import pandas as pd\n",
    "import numpy as np\n",
    "import matplotlib.pyplot as plt\n",
    "import seaborn as sns\n",
    "import re\n",
    "import math"
   ]
  },
  {
   "cell_type": "code",
   "execution_count": 218,
   "metadata": {},
   "outputs": [],
   "source": [
    "sns.set(rc={'figure.figsize':(15,10)})"
   ]
  },
  {
   "cell_type": "code",
   "execution_count": 219,
   "metadata": {},
   "outputs": [],
   "source": [
    "raw_data = pd.read_csv('loan.csv', index_col='id')"
   ]
  },
  {
   "cell_type": "code",
   "execution_count": 220,
   "metadata": {},
   "outputs": [
    {
     "data": {
      "text/html": [
       "<div>\n",
       "<style scoped>\n",
       "    .dataframe tbody tr th:only-of-type {\n",
       "        vertical-align: middle;\n",
       "    }\n",
       "\n",
       "    .dataframe tbody tr th {\n",
       "        vertical-align: top;\n",
       "    }\n",
       "\n",
       "    .dataframe thead th {\n",
       "        text-align: right;\n",
       "    }\n",
       "</style>\n",
       "<table border=\"1\" class=\"dataframe\">\n",
       "  <thead>\n",
       "    <tr style=\"text-align: right;\">\n",
       "      <th></th>\n",
       "      <th>member_id</th>\n",
       "      <th>loan_amnt</th>\n",
       "      <th>funded_amnt</th>\n",
       "      <th>funded_amnt_inv</th>\n",
       "      <th>term</th>\n",
       "      <th>int_rate</th>\n",
       "      <th>installment</th>\n",
       "      <th>grade</th>\n",
       "      <th>sub_grade</th>\n",
       "      <th>emp_title</th>\n",
       "      <th>...</th>\n",
       "      <th>num_tl_90g_dpd_24m</th>\n",
       "      <th>num_tl_op_past_12m</th>\n",
       "      <th>pct_tl_nvr_dlq</th>\n",
       "      <th>percent_bc_gt_75</th>\n",
       "      <th>pub_rec_bankruptcies</th>\n",
       "      <th>tax_liens</th>\n",
       "      <th>tot_hi_cred_lim</th>\n",
       "      <th>total_bal_ex_mort</th>\n",
       "      <th>total_bc_limit</th>\n",
       "      <th>total_il_high_credit_limit</th>\n",
       "    </tr>\n",
       "    <tr>\n",
       "      <th>id</th>\n",
       "      <th></th>\n",
       "      <th></th>\n",
       "      <th></th>\n",
       "      <th></th>\n",
       "      <th></th>\n",
       "      <th></th>\n",
       "      <th></th>\n",
       "      <th></th>\n",
       "      <th></th>\n",
       "      <th></th>\n",
       "      <th></th>\n",
       "      <th></th>\n",
       "      <th></th>\n",
       "      <th></th>\n",
       "      <th></th>\n",
       "      <th></th>\n",
       "      <th></th>\n",
       "      <th></th>\n",
       "      <th></th>\n",
       "      <th></th>\n",
       "      <th></th>\n",
       "    </tr>\n",
       "  </thead>\n",
       "  <tbody>\n",
       "    <tr>\n",
       "      <th>312505</th>\n",
       "      <td>312443</td>\n",
       "      <td>500</td>\n",
       "      <td>500.0</td>\n",
       "      <td>450.0</td>\n",
       "      <td>36 months</td>\n",
       "      <td>9.76%</td>\n",
       "      <td>16.08</td>\n",
       "      <td>B</td>\n",
       "      <td>B2</td>\n",
       "      <td>Hughes, Hubbard &amp; Reed LLP</td>\n",
       "      <td>...</td>\n",
       "      <td>NaN</td>\n",
       "      <td>NaN</td>\n",
       "      <td>NaN</td>\n",
       "      <td>NaN</td>\n",
       "      <td>0.0</td>\n",
       "      <td>0.0</td>\n",
       "      <td>NaN</td>\n",
       "      <td>NaN</td>\n",
       "      <td>NaN</td>\n",
       "      <td>NaN</td>\n",
       "    </tr>\n",
       "    <tr>\n",
       "      <th>242695</th>\n",
       "      <td>242682</td>\n",
       "      <td>500</td>\n",
       "      <td>500.0</td>\n",
       "      <td>500.0</td>\n",
       "      <td>36 months</td>\n",
       "      <td>10.71%</td>\n",
       "      <td>16.31</td>\n",
       "      <td>B</td>\n",
       "      <td>B5</td>\n",
       "      <td>NaN</td>\n",
       "      <td>...</td>\n",
       "      <td>NaN</td>\n",
       "      <td>NaN</td>\n",
       "      <td>NaN</td>\n",
       "      <td>NaN</td>\n",
       "      <td>NaN</td>\n",
       "      <td>0.0</td>\n",
       "      <td>NaN</td>\n",
       "      <td>NaN</td>\n",
       "      <td>NaN</td>\n",
       "      <td>NaN</td>\n",
       "    </tr>\n",
       "    <tr>\n",
       "      <th>216698</th>\n",
       "      <td>174214</td>\n",
       "      <td>500</td>\n",
       "      <td>500.0</td>\n",
       "      <td>500.0</td>\n",
       "      <td>36 months</td>\n",
       "      <td>10.46%</td>\n",
       "      <td>16.25</td>\n",
       "      <td>B</td>\n",
       "      <td>B5</td>\n",
       "      <td>THe University of Illinois</td>\n",
       "      <td>...</td>\n",
       "      <td>NaN</td>\n",
       "      <td>NaN</td>\n",
       "      <td>NaN</td>\n",
       "      <td>NaN</td>\n",
       "      <td>NaN</td>\n",
       "      <td>0.0</td>\n",
       "      <td>NaN</td>\n",
       "      <td>NaN</td>\n",
       "      <td>NaN</td>\n",
       "      <td>NaN</td>\n",
       "    </tr>\n",
       "    <tr>\n",
       "      <th>211133</th>\n",
       "      <td>210644</td>\n",
       "      <td>500</td>\n",
       "      <td>500.0</td>\n",
       "      <td>475.0</td>\n",
       "      <td>36 months</td>\n",
       "      <td>11.41%</td>\n",
       "      <td>16.47</td>\n",
       "      <td>C</td>\n",
       "      <td>C3</td>\n",
       "      <td>Global Travel International -and- Global Domai...</td>\n",
       "      <td>...</td>\n",
       "      <td>NaN</td>\n",
       "      <td>NaN</td>\n",
       "      <td>NaN</td>\n",
       "      <td>NaN</td>\n",
       "      <td>NaN</td>\n",
       "      <td>0.0</td>\n",
       "      <td>NaN</td>\n",
       "      <td>NaN</td>\n",
       "      <td>NaN</td>\n",
       "      <td>NaN</td>\n",
       "    </tr>\n",
       "    <tr>\n",
       "      <th>164346</th>\n",
       "      <td>163835</td>\n",
       "      <td>500</td>\n",
       "      <td>500.0</td>\n",
       "      <td>400.0</td>\n",
       "      <td>36 months</td>\n",
       "      <td>8.07%</td>\n",
       "      <td>15.69</td>\n",
       "      <td>A</td>\n",
       "      <td>A4</td>\n",
       "      <td>NaN</td>\n",
       "      <td>...</td>\n",
       "      <td>NaN</td>\n",
       "      <td>NaN</td>\n",
       "      <td>NaN</td>\n",
       "      <td>NaN</td>\n",
       "      <td>NaN</td>\n",
       "      <td>0.0</td>\n",
       "      <td>NaN</td>\n",
       "      <td>NaN</td>\n",
       "      <td>NaN</td>\n",
       "      <td>NaN</td>\n",
       "    </tr>\n",
       "    <tr>\n",
       "      <th>306018</th>\n",
       "      <td>305720</td>\n",
       "      <td>700</td>\n",
       "      <td>700.0</td>\n",
       "      <td>700.0</td>\n",
       "      <td>36 months</td>\n",
       "      <td>12.29%</td>\n",
       "      <td>23.35</td>\n",
       "      <td>C</td>\n",
       "      <td>C5</td>\n",
       "      <td>SDSU Residential Life</td>\n",
       "      <td>...</td>\n",
       "      <td>NaN</td>\n",
       "      <td>NaN</td>\n",
       "      <td>NaN</td>\n",
       "      <td>NaN</td>\n",
       "      <td>0.0</td>\n",
       "      <td>0.0</td>\n",
       "      <td>NaN</td>\n",
       "      <td>NaN</td>\n",
       "      <td>NaN</td>\n",
       "      <td>NaN</td>\n",
       "    </tr>\n",
       "    <tr>\n",
       "      <th>311591</th>\n",
       "      <td>311571</td>\n",
       "      <td>725</td>\n",
       "      <td>725.0</td>\n",
       "      <td>650.0</td>\n",
       "      <td>36 months</td>\n",
       "      <td>7.37%</td>\n",
       "      <td>22.51</td>\n",
       "      <td>A</td>\n",
       "      <td>A1</td>\n",
       "      <td>Team Awesome Productions, Inc.</td>\n",
       "      <td>...</td>\n",
       "      <td>NaN</td>\n",
       "      <td>NaN</td>\n",
       "      <td>NaN</td>\n",
       "      <td>NaN</td>\n",
       "      <td>0.0</td>\n",
       "      <td>0.0</td>\n",
       "      <td>NaN</td>\n",
       "      <td>NaN</td>\n",
       "      <td>NaN</td>\n",
       "      <td>NaN</td>\n",
       "    </tr>\n",
       "  </tbody>\n",
       "</table>\n",
       "<p>7 rows × 110 columns</p>\n",
       "</div>"
      ],
      "text/plain": [
       "        member_id  loan_amnt  funded_amnt  funded_amnt_inv        term  \\\n",
       "id                                                                       \n",
       "312505     312443        500        500.0            450.0   36 months   \n",
       "242695     242682        500        500.0            500.0   36 months   \n",
       "216698     174214        500        500.0            500.0   36 months   \n",
       "211133     210644        500        500.0            475.0   36 months   \n",
       "164346     163835        500        500.0            400.0   36 months   \n",
       "306018     305720        700        700.0            700.0   36 months   \n",
       "311591     311571        725        725.0            650.0   36 months   \n",
       "\n",
       "       int_rate  installment grade sub_grade  \\\n",
       "id                                             \n",
       "312505    9.76%        16.08     B        B2   \n",
       "242695   10.71%        16.31     B        B5   \n",
       "216698   10.46%        16.25     B        B5   \n",
       "211133   11.41%        16.47     C        C3   \n",
       "164346    8.07%        15.69     A        A4   \n",
       "306018   12.29%        23.35     C        C5   \n",
       "311591    7.37%        22.51     A        A1   \n",
       "\n",
       "                                                emp_title  ...  \\\n",
       "id                                                         ...   \n",
       "312505                         Hughes, Hubbard & Reed LLP  ...   \n",
       "242695                                                NaN  ...   \n",
       "216698                         THe University of Illinois  ...   \n",
       "211133  Global Travel International -and- Global Domai...  ...   \n",
       "164346                                                NaN  ...   \n",
       "306018                              SDSU Residential Life  ...   \n",
       "311591                     Team Awesome Productions, Inc.  ...   \n",
       "\n",
       "       num_tl_90g_dpd_24m num_tl_op_past_12m  pct_tl_nvr_dlq percent_bc_gt_75  \\\n",
       "id                                                                              \n",
       "312505                NaN                NaN             NaN              NaN   \n",
       "242695                NaN                NaN             NaN              NaN   \n",
       "216698                NaN                NaN             NaN              NaN   \n",
       "211133                NaN                NaN             NaN              NaN   \n",
       "164346                NaN                NaN             NaN              NaN   \n",
       "306018                NaN                NaN             NaN              NaN   \n",
       "311591                NaN                NaN             NaN              NaN   \n",
       "\n",
       "       pub_rec_bankruptcies tax_liens tot_hi_cred_lim total_bal_ex_mort  \\\n",
       "id                                                                        \n",
       "312505                  0.0       0.0             NaN               NaN   \n",
       "242695                  NaN       0.0             NaN               NaN   \n",
       "216698                  NaN       0.0             NaN               NaN   \n",
       "211133                  NaN       0.0             NaN               NaN   \n",
       "164346                  NaN       0.0             NaN               NaN   \n",
       "306018                  0.0       0.0             NaN               NaN   \n",
       "311591                  0.0       0.0             NaN               NaN   \n",
       "\n",
       "       total_bc_limit total_il_high_credit_limit  \n",
       "id                                                \n",
       "312505            NaN                        NaN  \n",
       "242695            NaN                        NaN  \n",
       "216698            NaN                        NaN  \n",
       "211133            NaN                        NaN  \n",
       "164346            NaN                        NaN  \n",
       "306018            NaN                        NaN  \n",
       "311591            NaN                        NaN  \n",
       "\n",
       "[7 rows x 110 columns]"
      ]
     },
     "execution_count": 220,
     "metadata": {},
     "output_type": "execute_result"
    }
   ],
   "source": [
    "raw_data.head(7)"
   ]
  },
  {
   "cell_type": "markdown",
   "metadata": {},
   "source": [
    "# 1. Cleaning Data"
   ]
  },
  {
   "cell_type": "markdown",
   "metadata": {},
   "source": [
    "### This step involves cleaning data and converting them into respective formats which can be easily considered for quick calculations"
   ]
  },
  {
   "cell_type": "markdown",
   "metadata": {},
   "source": [
    "### 1.0 Formatting Funded Amount Column Into Funding Category"
   ]
  },
  {
   "cell_type": "code",
   "execution_count": 221,
   "metadata": {},
   "outputs": [],
   "source": [
    "raw_data['funded_amount_category'] = raw_data['funded_amnt'].apply(lambda x: math.ceil(x/1000.00) * 1000)"
   ]
  },
  {
   "cell_type": "markdown",
   "metadata": {},
   "source": [
    "### 1.1 Formatting Loan Term Column"
   ]
  },
  {
   "cell_type": "code",
   "execution_count": 222,
   "metadata": {},
   "outputs": [],
   "source": [
    "def extract_valid_month_from_months_column(row):\n",
    "    row = re.sub('[A-Za-z, ]', '', str(row))\n",
    "    return int(row)"
   ]
  },
  {
   "cell_type": "code",
   "execution_count": 223,
   "metadata": {},
   "outputs": [],
   "source": [
    "raw_data['term'] = raw_data.term.apply(extract_valid_month_from_months_column)"
   ]
  },
  {
   "cell_type": "markdown",
   "metadata": {},
   "source": [
    "### 1.2 Formatting Interest Column to Float Value"
   ]
  },
  {
   "cell_type": "code",
   "execution_count": 224,
   "metadata": {},
   "outputs": [],
   "source": [
    "def extract_valid_float_from_interest_column(row):\n",
    "    row = re.sub('[%, ]', '', str(row))\n",
    "    return float(row)"
   ]
  },
  {
   "cell_type": "code",
   "execution_count": 225,
   "metadata": {},
   "outputs": [],
   "source": [
    "raw_data['int_rate'] = raw_data.int_rate.apply(extract_valid_float_from_interest_column)"
   ]
  },
  {
   "cell_type": "markdown",
   "metadata": {},
   "source": [
    "### 1.3 Creating Categorical Column For Interest"
   ]
  },
  {
   "cell_type": "code",
   "execution_count": 226,
   "metadata": {},
   "outputs": [],
   "source": [
    "raw_data['int_rate_category'] = raw_data['int_rate'].apply(lambda x: math.ceil(x))"
   ]
  },
  {
   "cell_type": "markdown",
   "metadata": {},
   "source": [
    "### 1.3 Formatting Sub-Grade Column"
   ]
  },
  {
   "cell_type": "markdown",
   "metadata": {},
   "source": [
    "##### While comparing Grade & Sub-Grade column, it is observed that, alphabet in Sub-Grade column is same as alphabet in Grade Column. This can be verified by printing rows where value of \"Grade\" column is not equal to alphabet in \"Sub-Grade\" column. (If there are no values i.e. count is zero, while comparing this, we can be assured to drop alphabet from Sub-Grade column)"
   ]
  },
  {
   "cell_type": "code",
   "execution_count": 227,
   "metadata": {},
   "outputs": [
    {
     "data": {
      "text/plain": [
       "0"
      ]
     },
     "execution_count": 227,
     "metadata": {},
     "output_type": "execute_result"
    }
   ],
   "source": [
    "raw_data[raw_data['grade'] != raw_data.sub_grade.apply(lambda x: x[:1])].grade.count()"
   ]
  },
  {
   "cell_type": "markdown",
   "metadata": {},
   "source": [
    "##### So, we will proceed ahead with dropping the alphabet from Sub-Grade column"
   ]
  },
  {
   "cell_type": "code",
   "execution_count": 228,
   "metadata": {},
   "outputs": [],
   "source": [
    "def remove_alphabet_from_sub_grade_column(row):\n",
    "    row = re.sub('[A-Za-z]', '', str(row))\n",
    "    return int(row)"
   ]
  },
  {
   "cell_type": "code",
   "execution_count": 229,
   "metadata": {},
   "outputs": [],
   "source": [
    "raw_data['sub_grade'] = raw_data.sub_grade.apply(remove_alphabet_from_sub_grade_column)"
   ]
  },
  {
   "cell_type": "markdown",
   "metadata": {},
   "source": [
    "### 1.4 Formatting Employee Length (Years of Experience) Column"
   ]
  },
  {
   "cell_type": "code",
   "execution_count": 230,
   "metadata": {},
   "outputs": [],
   "source": [
    "def clean_employee_length_column(row):\n",
    "    row = re.sub('[A-Za-z, ]', '', str(row))\n",
    "    if row == '<1':\n",
    "        return 0\n",
    "    elif row == '10+':\n",
    "        return 10\n",
    "    elif row == '':\n",
    "        return np.nan\n",
    "    else:\n",
    "        return float(row)"
   ]
  },
  {
   "cell_type": "code",
   "execution_count": 231,
   "metadata": {
    "scrolled": true
   },
   "outputs": [],
   "source": [
    "raw_data['emp_length'] = raw_data.emp_length.apply(clean_employee_length_column)"
   ]
  },
  {
   "cell_type": "markdown",
   "metadata": {},
   "source": [
    "### 1.5 Formatting Ownership Column (Creating new mapped column)"
   ]
  },
  {
   "cell_type": "code",
   "execution_count": 232,
   "metadata": {},
   "outputs": [],
   "source": [
    "ownership_status_list = list(raw_data.home_ownership.unique())\n",
    "ownership_status_list.sort()"
   ]
  },
  {
   "cell_type": "code",
   "execution_count": 233,
   "metadata": {},
   "outputs": [
    {
     "data": {
      "text/plain": [
       "{'MORTGAGE': 0, 'NONE': 1, 'OTHER': 2, 'OWN': 3, 'RENT': 4}"
      ]
     },
     "execution_count": 233,
     "metadata": {},
     "output_type": "execute_result"
    }
   ],
   "source": [
    "ownership_dict = {value: index for index, value in enumerate(ownership_status_list)}\n",
    "ownership_dict"
   ]
  },
  {
   "cell_type": "code",
   "execution_count": 234,
   "metadata": {},
   "outputs": [],
   "source": [
    "raw_data['home_ownership_mapped'] = raw_data.home_ownership.map(ownership_dict)"
   ]
  },
  {
   "cell_type": "markdown",
   "metadata": {},
   "source": [
    "### 1.6 Formatting Annual Income / Salary Column (Creating new mapped column)"
   ]
  },
  {
   "cell_type": "code",
   "execution_count": 235,
   "metadata": {},
   "outputs": [],
   "source": [
    "raw_data['annual_inc_category'] = raw_data['annual_inc'].apply(lambda x: math.ceil(x/10000.00) * 10000)"
   ]
  },
  {
   "cell_type": "markdown",
   "metadata": {},
   "source": [
    "### 1.6 Formatting Salary Verification Column (Creating new mapped column)"
   ]
  },
  {
   "cell_type": "code",
   "execution_count": 236,
   "metadata": {},
   "outputs": [],
   "source": [
    "salary_verify_status_list = list(raw_data.verification_status.unique())\n",
    "salary_verify_status_list.sort()"
   ]
  },
  {
   "cell_type": "code",
   "execution_count": 237,
   "metadata": {},
   "outputs": [
    {
     "data": {
      "text/plain": [
       "{'Not Verified': 0, 'Source Verified': 1, 'Verified': 2}"
      ]
     },
     "execution_count": 237,
     "metadata": {},
     "output_type": "execute_result"
    }
   ],
   "source": [
    "income_verification_dict = {value: index for index, value in enumerate(salary_verify_status_list)}\n",
    "income_verification_dict"
   ]
  },
  {
   "cell_type": "code",
   "execution_count": 238,
   "metadata": {},
   "outputs": [],
   "source": [
    "raw_data['verification_status_mapped'] = raw_data.verification_status.map(income_verification_dict)"
   ]
  },
  {
   "cell_type": "markdown",
   "metadata": {},
   "source": [
    "### 1.7 Formatting Loan Issue Date to datetime object"
   ]
  },
  {
   "cell_type": "code",
   "execution_count": 239,
   "metadata": {},
   "outputs": [],
   "source": [
    "raw_data['issue_d'] = pd.to_datetime(raw_data.issue_d, format='%b-%y')"
   ]
  },
  {
   "cell_type": "markdown",
   "metadata": {},
   "source": [
    "### 1.8 Formatting Loan Status Column (Creating new mapped column)"
   ]
  },
  {
   "cell_type": "code",
   "execution_count": 240,
   "metadata": {},
   "outputs": [],
   "source": [
    "loan_status_list = list(raw_data.loan_status.unique())\n",
    "loan_status_list.sort()"
   ]
  },
  {
   "cell_type": "code",
   "execution_count": 241,
   "metadata": {},
   "outputs": [
    {
     "data": {
      "text/plain": [
       "{'Charged Off': 0, 'Current': 1, 'Fully Paid': 2}"
      ]
     },
     "execution_count": 241,
     "metadata": {},
     "output_type": "execute_result"
    }
   ],
   "source": [
    "loan_status_dict = {value: index for index, value in enumerate(loan_status_list)}\n",
    "loan_status_dict"
   ]
  },
  {
   "cell_type": "code",
   "execution_count": 242,
   "metadata": {},
   "outputs": [],
   "source": [
    "raw_data['loan_status_mapped'] = raw_data.loan_status.map(loan_status_dict)"
   ]
  },
  {
   "cell_type": "markdown",
   "metadata": {},
   "source": [
    "### 1.9 Payment Plan Column can be dropped off, as all the records in this column contains same value"
   ]
  },
  {
   "cell_type": "code",
   "execution_count": 243,
   "metadata": {},
   "outputs": [],
   "source": [
    "if 'pymnt_plan' in raw_data.columns:\n",
    "    raw_data = raw_data.drop(columns=['pymnt_plan'])"
   ]
  },
  {
   "cell_type": "markdown",
   "metadata": {},
   "source": [
    "### 1.10 Formatting Purpose Column"
   ]
  },
  {
   "cell_type": "code",
   "execution_count": 244,
   "metadata": {},
   "outputs": [],
   "source": [
    "raw_data['purpose'] = raw_data.purpose.apply(lambda x: x.replace('_', ' ').title())"
   ]
  },
  {
   "cell_type": "markdown",
   "metadata": {},
   "source": [
    "### 1.11 Mapping Address State Column With Complete State Name"
   ]
  },
  {
   "cell_type": "markdown",
   "metadata": {},
   "source": [
    "##### Creating a dictionary of all the states In US and their respective state abbreviation"
   ]
  },
  {
   "cell_type": "code",
   "execution_count": 245,
   "metadata": {},
   "outputs": [],
   "source": [
    "full_state_list = {'AL': 'Alabama', 'AK': 'Alaska', 'AZ': 'Arizona', 'AR': 'Arkansas', 'CA': 'California', 'CO': 'Colorado', 'CT': 'Connecticut', 'DE': 'Delaware', 'FL': 'Florida', 'GA': 'Georgia', 'HI': 'Hawaii', 'ID': 'Idaho', 'IL': 'Illinois', 'IN': 'Indiana', 'IA': 'Iowa', 'KS': 'Kansas', 'KY': 'Kentucky', 'LA': 'Louisiana', 'ME': 'Maine', 'MD': 'Maryland', 'MA': 'Massachusetts', 'MI': 'Michigan', 'MN': 'Minnesota', 'MS': 'Mississippi', 'MO': 'Missouri', 'MT': 'Montana', 'NE': 'Nebraska', 'NV': 'Nevada', 'NH': 'New Hampshire', 'NJ': 'New Jersey', 'NM': 'New Mexico', 'NY': 'New York', 'NC': 'North Carolina', 'ND': 'North Dakota', 'OH': 'Ohio', 'OK': 'Oklahoma', 'OR': 'Oregon', 'PA': 'Pennsylvania', 'RI': 'Rhode Island', 'SC': 'South Carolina', 'SD': 'South Dakota', 'TN': 'Tennessee', 'TX': 'Texas', 'UT': 'Utah', 'VT': 'Vermont', 'VA': 'Virginia', 'WA': 'Washington', 'WV': 'West Virginia', 'WI': 'Wisconsin', 'WY': 'Wyoming'}"
   ]
  },
  {
   "cell_type": "code",
   "execution_count": 246,
   "metadata": {},
   "outputs": [],
   "source": [
    "raw_data['addr_state_name'] = raw_data.addr_state.map(full_state_list)"
   ]
  },
  {
   "cell_type": "markdown",
   "metadata": {},
   "source": [
    "### 1.12 Formatting Earliest Credit Line Column to Valid Date object"
   ]
  },
  {
   "cell_type": "code",
   "execution_count": 247,
   "metadata": {},
   "outputs": [],
   "source": [
    "raw_data['earliest_cr_line'] = pd.to_datetime(raw_data.earliest_cr_line, format='%b-%y')"
   ]
  },
  {
   "cell_type": "code",
   "execution_count": 248,
   "metadata": {},
   "outputs": [
    {
     "name": "stderr",
     "output_type": "stream",
     "text": [
      "<ipython-input-248-ddce41ebc1d2>:1: FutureWarning: Treating datetime data as categorical rather than numeric in `.describe` is deprecated and will be removed in a future version of pandas. Specify `datetime_is_numeric=True` to silence this warning and adopt the future behavior now.\n",
      "  raw_data.earliest_cr_line.describe()\n"
     ]
    },
    {
     "data": {
      "text/plain": [
       "count                   39717\n",
       "unique                    526\n",
       "top       1998-11-01 00:00:00\n",
       "freq                      370\n",
       "first     1969-02-01 00:00:00\n",
       "last      2068-12-01 00:00:00\n",
       "Name: earliest_cr_line, dtype: object"
      ]
     },
     "execution_count": 248,
     "metadata": {},
     "output_type": "execute_result"
    }
   ],
   "source": [
    "raw_data.earliest_cr_line.describe()"
   ]
  },
  {
   "cell_type": "markdown",
   "metadata": {},
   "source": [
    "### 1.13 Formatting Months Since Last Delinq(Default) & Months Since Last Record Column to Valid format"
   ]
  },
  {
   "cell_type": "code",
   "execution_count": 249,
   "metadata": {},
   "outputs": [],
   "source": [
    "def clean_months_since_last_column(row):\n",
    "    if type(row) == str:\n",
    "        return np.nan\n",
    "    else:\n",
    "        return float(row)"
   ]
  },
  {
   "cell_type": "code",
   "execution_count": 250,
   "metadata": {},
   "outputs": [],
   "source": [
    "raw_data['mths_since_last_delinq'] = raw_data.mths_since_last_delinq.apply(clean_months_since_last_column)"
   ]
  },
  {
   "cell_type": "code",
   "execution_count": 251,
   "metadata": {},
   "outputs": [],
   "source": [
    "raw_data['mths_since_last_record'] = raw_data.mths_since_last_record.apply(clean_months_since_last_column)"
   ]
  },
  {
   "cell_type": "markdown",
   "metadata": {},
   "source": [
    "### 1.14 Formatting Months Since Last Delinq(Default) & Months Since Last Record Column to Valid format"
   ]
  },
  {
   "cell_type": "code",
   "execution_count": 252,
   "metadata": {},
   "outputs": [],
   "source": [
    "raw_data['revol_util'] = raw_data.revol_util.apply(extract_valid_float_from_interest_column)"
   ]
  },
  {
   "cell_type": "markdown",
   "metadata": {},
   "source": [
    "### 1.15 Initial Status Column can be dropped off, as all the records in this column contains same value."
   ]
  },
  {
   "cell_type": "code",
   "execution_count": 253,
   "metadata": {},
   "outputs": [],
   "source": [
    "if 'initial_list_status' in raw_data.columns:\n",
    "    raw_data = raw_data.drop(columns=['initial_list_status'])"
   ]
  },
  {
   "cell_type": "code",
   "execution_count": 254,
   "metadata": {},
   "outputs": [
    {
     "data": {
      "text/plain": [
       "dtype('float64')"
      ]
     },
     "execution_count": 254,
     "metadata": {},
     "output_type": "execute_result"
    }
   ],
   "source": [
    "raw_data.out_prncp_inv.dtypes"
   ]
  },
  {
   "cell_type": "markdown",
   "metadata": {},
   "source": [
    "### 1.16 Formatting Last Payment, Next Payment & Last Credit Pull Date Column to Valid format"
   ]
  },
  {
   "cell_type": "code",
   "execution_count": 255,
   "metadata": {},
   "outputs": [],
   "source": [
    "raw_data['last_pymnt_d'] = pd.to_datetime(raw_data.last_pymnt_d, format='%b-%y')"
   ]
  },
  {
   "cell_type": "code",
   "execution_count": 256,
   "metadata": {},
   "outputs": [],
   "source": [
    "raw_data['next_pymnt_d'] = pd.to_datetime(raw_data.next_pymnt_d, format='%b-%y')"
   ]
  },
  {
   "cell_type": "code",
   "execution_count": 257,
   "metadata": {},
   "outputs": [],
   "source": [
    "raw_data['last_credit_pull_d'] = pd.to_datetime(raw_data.last_credit_pull_d, format='%b-%y')"
   ]
  },
  {
   "cell_type": "markdown",
   "metadata": {},
   "source": [
    "### 1.17 Application Type Column can be dropped off, as all the records in this column contains same value."
   ]
  },
  {
   "cell_type": "code",
   "execution_count": 258,
   "metadata": {},
   "outputs": [],
   "source": [
    "if 'application_type' in raw_data.columns:\n",
    "    raw_data = raw_data.drop(columns=['application_type'])"
   ]
  },
  {
   "cell_type": "markdown",
   "metadata": {},
   "source": [
    "### 1.18 All the columns after Application Type Column are in the correct format (i.e. float value). Hence, those columns need not have to be cleaned"
   ]
  },
  {
   "cell_type": "markdown",
   "metadata": {},
   "source": [
    "# ==> 2. Comparing Data Between Charged Off & Fully Paid Customers <=="
   ]
  },
  {
   "cell_type": "markdown",
   "metadata": {},
   "source": [
    "### 2.1 Comparing \"Funded_Amount\" Column across \"Loan_Status\" Column"
   ]
  },
  {
   "cell_type": "markdown",
   "metadata": {},
   "source": [
    "##### 1. Converting Funding Amount Data into bins each of size 1000 (such that any value between 0 & 1000 will be termed as 1000, any value between 1001 & 2000 will be termed as 2000)\n",
    "##### 2. Finding Number of Customers according to Loan Status & then segregating into different funding amount category\n",
    "##### 3. Calculating percentage of member from each group of loan status with respect to total members in that group."
   ]
  },
  {
   "cell_type": "code",
   "execution_count": 259,
   "metadata": {},
   "outputs": [
    {
     "data": {
      "text/html": [
       "<div>\n",
       "<style scoped>\n",
       "    .dataframe tbody tr th:only-of-type {\n",
       "        vertical-align: middle;\n",
       "    }\n",
       "\n",
       "    .dataframe tbody tr th {\n",
       "        vertical-align: top;\n",
       "    }\n",
       "\n",
       "    .dataframe thead th {\n",
       "        text-align: right;\n",
       "    }\n",
       "</style>\n",
       "<table border=\"1\" class=\"dataframe\">\n",
       "  <thead>\n",
       "    <tr style=\"text-align: right;\">\n",
       "      <th>funded_amount_category</th>\n",
       "      <th>1000</th>\n",
       "      <th>2000</th>\n",
       "      <th>3000</th>\n",
       "      <th>4000</th>\n",
       "      <th>5000</th>\n",
       "      <th>6000</th>\n",
       "      <th>7000</th>\n",
       "      <th>8000</th>\n",
       "      <th>9000</th>\n",
       "      <th>10000</th>\n",
       "      <th>...</th>\n",
       "      <th>27000</th>\n",
       "      <th>28000</th>\n",
       "      <th>29000</th>\n",
       "      <th>30000</th>\n",
       "      <th>31000</th>\n",
       "      <th>32000</th>\n",
       "      <th>33000</th>\n",
       "      <th>34000</th>\n",
       "      <th>35000</th>\n",
       "      <th>total</th>\n",
       "    </tr>\n",
       "    <tr>\n",
       "      <th>loan_status</th>\n",
       "      <th></th>\n",
       "      <th></th>\n",
       "      <th></th>\n",
       "      <th></th>\n",
       "      <th></th>\n",
       "      <th></th>\n",
       "      <th></th>\n",
       "      <th></th>\n",
       "      <th></th>\n",
       "      <th></th>\n",
       "      <th></th>\n",
       "      <th></th>\n",
       "      <th></th>\n",
       "      <th></th>\n",
       "      <th></th>\n",
       "      <th></th>\n",
       "      <th></th>\n",
       "      <th></th>\n",
       "      <th></th>\n",
       "      <th></th>\n",
       "      <th></th>\n",
       "    </tr>\n",
       "  </thead>\n",
       "  <tbody>\n",
       "    <tr>\n",
       "      <th>Charged Off</th>\n",
       "      <td>48</td>\n",
       "      <td>196</td>\n",
       "      <td>308</td>\n",
       "      <td>312</td>\n",
       "      <td>467</td>\n",
       "      <td>338</td>\n",
       "      <td>253</td>\n",
       "      <td>389</td>\n",
       "      <td>201</td>\n",
       "      <td>483</td>\n",
       "      <td>...</td>\n",
       "      <td>13</td>\n",
       "      <td>22</td>\n",
       "      <td>4</td>\n",
       "      <td>62</td>\n",
       "      <td>6</td>\n",
       "      <td>7</td>\n",
       "      <td>4</td>\n",
       "      <td>4</td>\n",
       "      <td>128</td>\n",
       "      <td>5627</td>\n",
       "    </tr>\n",
       "    <tr>\n",
       "      <th>Current</th>\n",
       "      <td>3</td>\n",
       "      <td>9</td>\n",
       "      <td>20</td>\n",
       "      <td>24</td>\n",
       "      <td>40</td>\n",
       "      <td>38</td>\n",
       "      <td>28</td>\n",
       "      <td>38</td>\n",
       "      <td>20</td>\n",
       "      <td>40</td>\n",
       "      <td>...</td>\n",
       "      <td>9</td>\n",
       "      <td>15</td>\n",
       "      <td>2</td>\n",
       "      <td>38</td>\n",
       "      <td>3</td>\n",
       "      <td>5</td>\n",
       "      <td>3</td>\n",
       "      <td>4</td>\n",
       "      <td>55</td>\n",
       "      <td>1140</td>\n",
       "    </tr>\n",
       "    <tr>\n",
       "      <th>Fully Paid</th>\n",
       "      <td>263</td>\n",
       "      <td>1195</td>\n",
       "      <td>1852</td>\n",
       "      <td>1990</td>\n",
       "      <td>2924</td>\n",
       "      <td>2549</td>\n",
       "      <td>1831</td>\n",
       "      <td>2474</td>\n",
       "      <td>1305</td>\n",
       "      <td>3174</td>\n",
       "      <td>...</td>\n",
       "      <td>35</td>\n",
       "      <td>135</td>\n",
       "      <td>31</td>\n",
       "      <td>270</td>\n",
       "      <td>13</td>\n",
       "      <td>38</td>\n",
       "      <td>16</td>\n",
       "      <td>20</td>\n",
       "      <td>380</td>\n",
       "      <td>32950</td>\n",
       "    </tr>\n",
       "  </tbody>\n",
       "</table>\n",
       "<p>3 rows × 36 columns</p>\n",
       "</div>"
      ],
      "text/plain": [
       "funded_amount_category  1000  2000  3000  4000  5000  6000  7000  8000  9000  \\\n",
       "loan_status                                                                    \n",
       "Charged Off               48   196   308   312   467   338   253   389   201   \n",
       "Current                    3     9    20    24    40    38    28    38    20   \n",
       "Fully Paid               263  1195  1852  1990  2924  2549  1831  2474  1305   \n",
       "\n",
       "funded_amount_category  10000  ...  27000  28000  29000  30000  31000  32000  \\\n",
       "loan_status                    ...                                             \n",
       "Charged Off               483  ...     13     22      4     62      6      7   \n",
       "Current                    40  ...      9     15      2     38      3      5   \n",
       "Fully Paid               3174  ...     35    135     31    270     13     38   \n",
       "\n",
       "funded_amount_category  33000  34000  35000  total  \n",
       "loan_status                                         \n",
       "Charged Off                 4      4    128   5627  \n",
       "Current                     3      4     55   1140  \n",
       "Fully Paid                 16     20    380  32950  \n",
       "\n",
       "[3 rows x 36 columns]"
      ]
     },
     "execution_count": 259,
     "metadata": {},
     "output_type": "execute_result"
    }
   ],
   "source": [
    "plot_this = raw_data.pivot_table(index='loan_status', columns='funded_amount_category', values='member_id', aggfunc='count').fillna(0)\n",
    "plot_this['total'] = plot_this.sum(axis=1)\n",
    "plot_this"
   ]
  },
  {
   "cell_type": "code",
   "execution_count": 260,
   "metadata": {},
   "outputs": [
    {
     "data": {
      "text/plain": [
       "<AxesSubplot:xlabel='funded_amount_category', ylabel='loan_status'>"
      ]
     },
     "execution_count": 260,
     "metadata": {},
     "output_type": "execute_result"
    },
    {
     "data": {
      "image/png": "[encoded data removed]",
      "text/plain": [
       "<Figure size 1080x720 with 2 Axes>"
      ]
     },
     "metadata": {},
     "output_type": "display_data"
    }
   ],
   "source": [
    "sns.heatmap(plot_this.iloc[:,:-1].div(plot_this[\"total\"], axis=0)*100)"
   ]
  },
  {
   "cell_type": "code",
   "execution_count": 261,
   "metadata": {},
   "outputs": [
    {
     "data": {
      "text/html": [
       "<div>\n",
       "<style scoped>\n",
       "    .dataframe tbody tr th:only-of-type {\n",
       "        vertical-align: middle;\n",
       "    }\n",
       "\n",
       "    .dataframe tbody tr th {\n",
       "        vertical-align: top;\n",
       "    }\n",
       "\n",
       "    .dataframe thead th {\n",
       "        text-align: right;\n",
       "    }\n",
       "</style>\n",
       "<table border=\"1\" class=\"dataframe\">\n",
       "  <thead>\n",
       "    <tr style=\"text-align: right;\">\n",
       "      <th>term</th>\n",
       "      <th>36</th>\n",
       "      <th>60</th>\n",
       "      <th>total</th>\n",
       "    </tr>\n",
       "    <tr>\n",
       "      <th>loan_status</th>\n",
       "      <th></th>\n",
       "      <th></th>\n",
       "      <th></th>\n",
       "    </tr>\n",
       "  </thead>\n",
       "  <tbody>\n",
       "    <tr>\n",
       "      <th>Charged Off</th>\n",
       "      <td>3227.0</td>\n",
       "      <td>2400.0</td>\n",
       "      <td>5627.0</td>\n",
       "    </tr>\n",
       "    <tr>\n",
       "      <th>Current</th>\n",
       "      <td>0.0</td>\n",
       "      <td>1140.0</td>\n",
       "      <td>1140.0</td>\n",
       "    </tr>\n",
       "    <tr>\n",
       "      <th>Fully Paid</th>\n",
       "      <td>25869.0</td>\n",
       "      <td>7081.0</td>\n",
       "      <td>32950.0</td>\n",
       "    </tr>\n",
       "  </tbody>\n",
       "</table>\n",
       "</div>"
      ],
      "text/plain": [
       "term              36      60    total\n",
       "loan_status                          \n",
       "Charged Off   3227.0  2400.0   5627.0\n",
       "Current          0.0  1140.0   1140.0\n",
       "Fully Paid   25869.0  7081.0  32950.0"
      ]
     },
     "execution_count": 261,
     "metadata": {},
     "output_type": "execute_result"
    }
   ],
   "source": [
    "plot_this = raw_data.pivot_table(index='loan_status', columns='term', values='member_id', aggfunc='count').fillna(0)\n",
    "plot_this['total'] = plot_this.sum(axis=1)\n",
    "plot_this"
   ]
  },
  {
   "cell_type": "code",
   "execution_count": 262,
   "metadata": {},
   "outputs": [
    {
     "data": {
      "text/plain": [
       "<AxesSubplot:xlabel='term', ylabel='loan_status'>"
      ]
     },
     "execution_count": 262,
     "metadata": {},
     "output_type": "execute_result"
    },
    {
     "data": {
      "image/png": "[encoded data removed]",
      "text/plain": [
       "<Figure size 1080x720 with 2 Axes>"
      ]
     },
     "metadata": {},
     "output_type": "display_data"
    }
   ],
   "source": [
    "sns.heatmap(plot_this.iloc[:,:-1].div(plot_this[\"total\"], axis=0)*100, annot=True)"
   ]
  },
  {
   "cell_type": "code",
   "execution_count": 263,
   "metadata": {},
   "outputs": [
    {
     "data": {
      "text/html": [
       "<div>\n",
       "<style scoped>\n",
       "    .dataframe tbody tr th:only-of-type {\n",
       "        vertical-align: middle;\n",
       "    }\n",
       "\n",
       "    .dataframe tbody tr th {\n",
       "        vertical-align: top;\n",
       "    }\n",
       "\n",
       "    .dataframe thead th {\n",
       "        text-align: right;\n",
       "    }\n",
       "</style>\n",
       "<table border=\"1\" class=\"dataframe\">\n",
       "  <thead>\n",
       "    <tr style=\"text-align: right;\">\n",
       "      <th>int_rate_category</th>\n",
       "      <th>6</th>\n",
       "      <th>7</th>\n",
       "      <th>8</th>\n",
       "      <th>9</th>\n",
       "      <th>10</th>\n",
       "      <th>11</th>\n",
       "      <th>12</th>\n",
       "      <th>13</th>\n",
       "      <th>14</th>\n",
       "      <th>15</th>\n",
       "      <th>...</th>\n",
       "      <th>17</th>\n",
       "      <th>18</th>\n",
       "      <th>19</th>\n",
       "      <th>20</th>\n",
       "      <th>21</th>\n",
       "      <th>22</th>\n",
       "      <th>23</th>\n",
       "      <th>24</th>\n",
       "      <th>25</th>\n",
       "      <th>total</th>\n",
       "    </tr>\n",
       "    <tr>\n",
       "      <th>loan_status</th>\n",
       "      <th></th>\n",
       "      <th></th>\n",
       "      <th></th>\n",
       "      <th></th>\n",
       "      <th></th>\n",
       "      <th></th>\n",
       "      <th></th>\n",
       "      <th></th>\n",
       "      <th></th>\n",
       "      <th></th>\n",
       "      <th></th>\n",
       "      <th></th>\n",
       "      <th></th>\n",
       "      <th></th>\n",
       "      <th></th>\n",
       "      <th></th>\n",
       "      <th></th>\n",
       "      <th></th>\n",
       "      <th></th>\n",
       "      <th></th>\n",
       "      <th></th>\n",
       "    </tr>\n",
       "  </thead>\n",
       "  <tbody>\n",
       "    <tr>\n",
       "      <th>Charged Off</th>\n",
       "      <td>55.0</td>\n",
       "      <td>119.0</td>\n",
       "      <td>266.0</td>\n",
       "      <td>145.0</td>\n",
       "      <td>245.0</td>\n",
       "      <td>454.0</td>\n",
       "      <td>612.0</td>\n",
       "      <td>525.0</td>\n",
       "      <td>639.0</td>\n",
       "      <td>477.0</td>\n",
       "      <td>...</td>\n",
       "      <td>461.0</td>\n",
       "      <td>365.0</td>\n",
       "      <td>230.0</td>\n",
       "      <td>210.0</td>\n",
       "      <td>147.0</td>\n",
       "      <td>78.0</td>\n",
       "      <td>56.0</td>\n",
       "      <td>13.0</td>\n",
       "      <td>2.0</td>\n",
       "      <td>5627.0</td>\n",
       "    </tr>\n",
       "    <tr>\n",
       "      <th>Current</th>\n",
       "      <td>2.0</td>\n",
       "      <td>0.0</td>\n",
       "      <td>13.0</td>\n",
       "      <td>27.0</td>\n",
       "      <td>35.0</td>\n",
       "      <td>99.0</td>\n",
       "      <td>132.0</td>\n",
       "      <td>116.0</td>\n",
       "      <td>94.0</td>\n",
       "      <td>88.0</td>\n",
       "      <td>...</td>\n",
       "      <td>84.0</td>\n",
       "      <td>107.0</td>\n",
       "      <td>75.0</td>\n",
       "      <td>93.0</td>\n",
       "      <td>53.0</td>\n",
       "      <td>19.0</td>\n",
       "      <td>23.0</td>\n",
       "      <td>6.0</td>\n",
       "      <td>1.0</td>\n",
       "      <td>1140.0</td>\n",
       "    </tr>\n",
       "    <tr>\n",
       "      <th>Fully Paid</th>\n",
       "      <td>1291.0</td>\n",
       "      <td>2350.0</td>\n",
       "      <td>4137.0</td>\n",
       "      <td>1445.0</td>\n",
       "      <td>2263.0</td>\n",
       "      <td>3554.0</td>\n",
       "      <td>3725.0</td>\n",
       "      <td>2812.0</td>\n",
       "      <td>3283.0</td>\n",
       "      <td>2184.0</td>\n",
       "      <td>...</td>\n",
       "      <td>1391.0</td>\n",
       "      <td>949.0</td>\n",
       "      <td>612.0</td>\n",
       "      <td>420.0</td>\n",
       "      <td>282.0</td>\n",
       "      <td>106.0</td>\n",
       "      <td>61.0</td>\n",
       "      <td>23.0</td>\n",
       "      <td>2.0</td>\n",
       "      <td>32950.0</td>\n",
       "    </tr>\n",
       "  </tbody>\n",
       "</table>\n",
       "<p>3 rows × 21 columns</p>\n",
       "</div>"
      ],
      "text/plain": [
       "int_rate_category       6       7       8       9      10      11      12  \\\n",
       "loan_status                                                                 \n",
       "Charged Off          55.0   119.0   266.0   145.0   245.0   454.0   612.0   \n",
       "Current               2.0     0.0    13.0    27.0    35.0    99.0   132.0   \n",
       "Fully Paid         1291.0  2350.0  4137.0  1445.0  2263.0  3554.0  3725.0   \n",
       "\n",
       "int_rate_category      13      14      15  ...      17     18     19     20  \\\n",
       "loan_status                                ...                                \n",
       "Charged Off         525.0   639.0   477.0  ...   461.0  365.0  230.0  210.0   \n",
       "Current             116.0    94.0    88.0  ...    84.0  107.0   75.0   93.0   \n",
       "Fully Paid         2812.0  3283.0  2184.0  ...  1391.0  949.0  612.0  420.0   \n",
       "\n",
       "int_rate_category     21     22    23    24   25    total  \n",
       "loan_status                                                \n",
       "Charged Off        147.0   78.0  56.0  13.0  2.0   5627.0  \n",
       "Current             53.0   19.0  23.0   6.0  1.0   1140.0  \n",
       "Fully Paid         282.0  106.0  61.0  23.0  2.0  32950.0  \n",
       "\n",
       "[3 rows x 21 columns]"
      ]
     },
     "execution_count": 263,
     "metadata": {},
     "output_type": "execute_result"
    }
   ],
   "source": [
    "plot_this = raw_data.pivot_table(index='loan_status', columns='int_rate_category', values='member_id', aggfunc='count').fillna(0)\n",
    "plot_this['total'] = plot_this.sum(axis=1)\n",
    "plot_this"
   ]
  },
  {
   "cell_type": "code",
   "execution_count": 264,
   "metadata": {},
   "outputs": [
    {
     "data": {
      "text/plain": [
       "<AxesSubplot:xlabel='int_rate_category', ylabel='loan_status'>"
      ]
     },
     "execution_count": 264,
     "metadata": {},
     "output_type": "execute_result"
    },
    {
     "data": {
      "image/png": "[encoded data removed]",
      "text/plain": [
       "<Figure size 1080x720 with 2 Axes>"
      ]
     },
     "metadata": {},
     "output_type": "display_data"
    }
   ],
   "source": [
    "sns.heatmap(plot_this.iloc[:,:-1].div(plot_this[\"total\"], axis=0)*100, annot=True)"
   ]
  },
  {
   "cell_type": "code",
   "execution_count": 265,
   "metadata": {},
   "outputs": [
    {
     "data": {
      "text/html": [
       "<div>\n",
       "<style scoped>\n",
       "    .dataframe tbody tr th:only-of-type {\n",
       "        vertical-align: middle;\n",
       "    }\n",
       "\n",
       "    .dataframe tbody tr th {\n",
       "        vertical-align: top;\n",
       "    }\n",
       "\n",
       "    .dataframe thead th {\n",
       "        text-align: right;\n",
       "    }\n",
       "</style>\n",
       "<table border=\"1\" class=\"dataframe\">\n",
       "  <thead>\n",
       "    <tr style=\"text-align: right;\">\n",
       "      <th>grade</th>\n",
       "      <th>A</th>\n",
       "      <th>B</th>\n",
       "      <th>C</th>\n",
       "      <th>D</th>\n",
       "      <th>E</th>\n",
       "      <th>F</th>\n",
       "      <th>G</th>\n",
       "      <th>total</th>\n",
       "    </tr>\n",
       "    <tr>\n",
       "      <th>loan_status</th>\n",
       "      <th></th>\n",
       "      <th></th>\n",
       "      <th></th>\n",
       "      <th></th>\n",
       "      <th></th>\n",
       "      <th></th>\n",
       "      <th></th>\n",
       "      <th></th>\n",
       "    </tr>\n",
       "  </thead>\n",
       "  <tbody>\n",
       "    <tr>\n",
       "      <th>Charged Off</th>\n",
       "      <td>602</td>\n",
       "      <td>1425</td>\n",
       "      <td>1347</td>\n",
       "      <td>1118</td>\n",
       "      <td>715</td>\n",
       "      <td>319</td>\n",
       "      <td>101</td>\n",
       "      <td>5627</td>\n",
       "    </tr>\n",
       "    <tr>\n",
       "      <th>Current</th>\n",
       "      <td>40</td>\n",
       "      <td>345</td>\n",
       "      <td>264</td>\n",
       "      <td>222</td>\n",
       "      <td>179</td>\n",
       "      <td>73</td>\n",
       "      <td>17</td>\n",
       "      <td>1140</td>\n",
       "    </tr>\n",
       "    <tr>\n",
       "      <th>Fully Paid</th>\n",
       "      <td>9443</td>\n",
       "      <td>10250</td>\n",
       "      <td>6487</td>\n",
       "      <td>3967</td>\n",
       "      <td>1948</td>\n",
       "      <td>657</td>\n",
       "      <td>198</td>\n",
       "      <td>32950</td>\n",
       "    </tr>\n",
       "  </tbody>\n",
       "</table>\n",
       "</div>"
      ],
      "text/plain": [
       "grade           A      B     C     D     E    F    G  total\n",
       "loan_status                                                \n",
       "Charged Off   602   1425  1347  1118   715  319  101   5627\n",
       "Current        40    345   264   222   179   73   17   1140\n",
       "Fully Paid   9443  10250  6487  3967  1948  657  198  32950"
      ]
     },
     "execution_count": 265,
     "metadata": {},
     "output_type": "execute_result"
    }
   ],
   "source": [
    "plot_this = raw_data.pivot_table(index='loan_status', columns='grade', values='member_id', aggfunc='count').fillna(0)\n",
    "plot_this['total'] = plot_this.sum(axis=1)\n",
    "plot_this"
   ]
  },
  {
   "cell_type": "code",
   "execution_count": 266,
   "metadata": {},
   "outputs": [
    {
     "data": {
      "text/plain": [
       "<AxesSubplot:xlabel='grade', ylabel='loan_status'>"
      ]
     },
     "execution_count": 266,
     "metadata": {},
     "output_type": "execute_result"
    },
    {
     "data": {
      "image/png": "[encoded data removed]",
      "text/plain": [
       "<Figure size 1080x720 with 2 Axes>"
      ]
     },
     "metadata": {},
     "output_type": "display_data"
    }
   ],
   "source": [
    "sns.heatmap(plot_this.iloc[:,:-1].div(plot_this[\"total\"], axis=0)*100, annot=True)"
   ]
  },
  {
   "cell_type": "code",
   "execution_count": 267,
   "metadata": {},
   "outputs": [
    {
     "data": {
      "text/html": [
       "<div>\n",
       "<style scoped>\n",
       "    .dataframe tbody tr th:only-of-type {\n",
       "        vertical-align: middle;\n",
       "    }\n",
       "\n",
       "    .dataframe tbody tr th {\n",
       "        vertical-align: top;\n",
       "    }\n",
       "\n",
       "    .dataframe thead th {\n",
       "        text-align: right;\n",
       "    }\n",
       "</style>\n",
       "<table border=\"1\" class=\"dataframe\">\n",
       "  <thead>\n",
       "    <tr style=\"text-align: right;\">\n",
       "      <th>sub_grade</th>\n",
       "      <th>1</th>\n",
       "      <th>2</th>\n",
       "      <th>3</th>\n",
       "      <th>4</th>\n",
       "      <th>5</th>\n",
       "      <th>total</th>\n",
       "    </tr>\n",
       "    <tr>\n",
       "      <th>loan_status</th>\n",
       "      <th></th>\n",
       "      <th></th>\n",
       "      <th></th>\n",
       "      <th></th>\n",
       "      <th></th>\n",
       "      <th></th>\n",
       "    </tr>\n",
       "  </thead>\n",
       "  <tbody>\n",
       "    <tr>\n",
       "      <th>Charged Off</th>\n",
       "      <td>1024</td>\n",
       "      <td>1155</td>\n",
       "      <td>1159</td>\n",
       "      <td>1126</td>\n",
       "      <td>1163</td>\n",
       "      <td>5627</td>\n",
       "    </tr>\n",
       "    <tr>\n",
       "      <th>Current</th>\n",
       "      <td>189</td>\n",
       "      <td>257</td>\n",
       "      <td>241</td>\n",
       "      <td>230</td>\n",
       "      <td>223</td>\n",
       "      <td>1140</td>\n",
       "    </tr>\n",
       "    <tr>\n",
       "      <th>Fully Paid</th>\n",
       "      <td>6019</td>\n",
       "      <td>6495</td>\n",
       "      <td>6815</td>\n",
       "      <td>6937</td>\n",
       "      <td>6684</td>\n",
       "      <td>32950</td>\n",
       "    </tr>\n",
       "  </tbody>\n",
       "</table>\n",
       "</div>"
      ],
      "text/plain": [
       "sub_grade       1     2     3     4     5  total\n",
       "loan_status                                     \n",
       "Charged Off  1024  1155  1159  1126  1163   5627\n",
       "Current       189   257   241   230   223   1140\n",
       "Fully Paid   6019  6495  6815  6937  6684  32950"
      ]
     },
     "execution_count": 267,
     "metadata": {},
     "output_type": "execute_result"
    }
   ],
   "source": [
    "plot_this = raw_data.pivot_table(index='loan_status', columns='sub_grade', values='member_id', aggfunc='count')\n",
    "plot_this['total'] = plot_this.sum(axis=1)\n",
    "plot_this"
   ]
  },
  {
   "cell_type": "code",
   "execution_count": 268,
   "metadata": {},
   "outputs": [
    {
     "data": {
      "text/plain": [
       "<AxesSubplot:xlabel='sub_grade', ylabel='loan_status'>"
      ]
     },
     "execution_count": 268,
     "metadata": {},
     "output_type": "execute_result"
    },
    {
     "data": {
      "image/png": "[encoded data removed]",
      "text/plain": [
       "<Figure size 1080x720 with 2 Axes>"
      ]
     },
     "metadata": {},
     "output_type": "display_data"
    }
   ],
   "source": [
    "sns.heatmap(plot_this.iloc[:,:-1].div(plot_this[\"total\"], axis=0)*100, annot=True)"
   ]
  },
  {
   "cell_type": "code",
   "execution_count": 269,
   "metadata": {},
   "outputs": [
    {
     "data": {
      "text/html": [
       "<div>\n",
       "<style scoped>\n",
       "    .dataframe tbody tr th:only-of-type {\n",
       "        vertical-align: middle;\n",
       "    }\n",
       "\n",
       "    .dataframe tbody tr th {\n",
       "        vertical-align: top;\n",
       "    }\n",
       "\n",
       "    .dataframe thead th {\n",
       "        text-align: right;\n",
       "    }\n",
       "</style>\n",
       "<table border=\"1\" class=\"dataframe\">\n",
       "  <thead>\n",
       "    <tr style=\"text-align: right;\">\n",
       "      <th>home_ownership</th>\n",
       "      <th>MORTGAGE</th>\n",
       "      <th>NONE</th>\n",
       "      <th>OTHER</th>\n",
       "      <th>OWN</th>\n",
       "      <th>RENT</th>\n",
       "      <th>total</th>\n",
       "    </tr>\n",
       "    <tr>\n",
       "      <th>loan_status</th>\n",
       "      <th></th>\n",
       "      <th></th>\n",
       "      <th></th>\n",
       "      <th></th>\n",
       "      <th></th>\n",
       "      <th></th>\n",
       "    </tr>\n",
       "  </thead>\n",
       "  <tbody>\n",
       "    <tr>\n",
       "      <th>Charged Off</th>\n",
       "      <td>2327.0</td>\n",
       "      <td>0.0</td>\n",
       "      <td>18.0</td>\n",
       "      <td>443.0</td>\n",
       "      <td>2839.0</td>\n",
       "      <td>5627.0</td>\n",
       "    </tr>\n",
       "    <tr>\n",
       "      <th>Current</th>\n",
       "      <td>638.0</td>\n",
       "      <td>0.0</td>\n",
       "      <td>0.0</td>\n",
       "      <td>83.0</td>\n",
       "      <td>419.0</td>\n",
       "      <td>1140.0</td>\n",
       "    </tr>\n",
       "    <tr>\n",
       "      <th>Fully Paid</th>\n",
       "      <td>14694.0</td>\n",
       "      <td>3.0</td>\n",
       "      <td>80.0</td>\n",
       "      <td>2532.0</td>\n",
       "      <td>15641.0</td>\n",
       "      <td>32950.0</td>\n",
       "    </tr>\n",
       "  </tbody>\n",
       "</table>\n",
       "</div>"
      ],
      "text/plain": [
       "home_ownership  MORTGAGE  NONE  OTHER     OWN     RENT    total\n",
       "loan_status                                                    \n",
       "Charged Off       2327.0   0.0   18.0   443.0   2839.0   5627.0\n",
       "Current            638.0   0.0    0.0    83.0    419.0   1140.0\n",
       "Fully Paid       14694.0   3.0   80.0  2532.0  15641.0  32950.0"
      ]
     },
     "execution_count": 269,
     "metadata": {},
     "output_type": "execute_result"
    }
   ],
   "source": [
    "plot_this = raw_data.pivot_table(index='loan_status', columns='home_ownership', values='member_id', aggfunc='count').fillna(0)\n",
    "plot_this['total'] = plot_this.sum(axis=1)\n",
    "plot_this"
   ]
  },
  {
   "cell_type": "code",
   "execution_count": 270,
   "metadata": {},
   "outputs": [
    {
     "data": {
      "text/plain": [
       "<AxesSubplot:xlabel='home_ownership', ylabel='loan_status'>"
      ]
     },
     "execution_count": 270,
     "metadata": {},
     "output_type": "execute_result"
    },
    {
     "data": {
      "image/png": "[encoded data removed]",
      "text/plain": [
       "<Figure size 1080x720 with 2 Axes>"
      ]
     },
     "metadata": {},
     "output_type": "display_data"
    }
   ],
   "source": [
    "sns.heatmap(plot_this.iloc[:,:-1].div(plot_this[\"total\"], axis=0)*100, annot=True)"
   ]
  },
  {
   "cell_type": "code",
   "execution_count": 271,
   "metadata": {},
   "outputs": [
    {
     "data": {
      "text/html": [
       "<div>\n",
       "<style scoped>\n",
       "    .dataframe tbody tr th:only-of-type {\n",
       "        vertical-align: middle;\n",
       "    }\n",
       "\n",
       "    .dataframe tbody tr th {\n",
       "        vertical-align: top;\n",
       "    }\n",
       "\n",
       "    .dataframe thead th {\n",
       "        text-align: right;\n",
       "    }\n",
       "</style>\n",
       "<table border=\"1\" class=\"dataframe\">\n",
       "  <thead>\n",
       "    <tr style=\"text-align: right;\">\n",
       "      <th>annual_inc_category</th>\n",
       "      <th>10000</th>\n",
       "      <th>20000</th>\n",
       "      <th>30000</th>\n",
       "      <th>40000</th>\n",
       "      <th>50000</th>\n",
       "      <th>60000</th>\n",
       "      <th>70000</th>\n",
       "      <th>80000</th>\n",
       "      <th>90000</th>\n",
       "      <th>100000</th>\n",
       "      <th>...</th>\n",
       "      <th>1200000</th>\n",
       "      <th>1250000</th>\n",
       "      <th>1370000</th>\n",
       "      <th>1440000</th>\n",
       "      <th>1790000</th>\n",
       "      <th>1900000</th>\n",
       "      <th>2040000</th>\n",
       "      <th>3900000</th>\n",
       "      <th>6000000</th>\n",
       "      <th>total</th>\n",
       "    </tr>\n",
       "    <tr>\n",
       "      <th>loan_status</th>\n",
       "      <th></th>\n",
       "      <th></th>\n",
       "      <th></th>\n",
       "      <th></th>\n",
       "      <th></th>\n",
       "      <th></th>\n",
       "      <th></th>\n",
       "      <th></th>\n",
       "      <th></th>\n",
       "      <th></th>\n",
       "      <th></th>\n",
       "      <th></th>\n",
       "      <th></th>\n",
       "      <th></th>\n",
       "      <th></th>\n",
       "      <th></th>\n",
       "      <th></th>\n",
       "      <th></th>\n",
       "      <th></th>\n",
       "      <th></th>\n",
       "      <th></th>\n",
       "    </tr>\n",
       "  </thead>\n",
       "  <tbody>\n",
       "    <tr>\n",
       "      <th>Charged Off</th>\n",
       "      <td>20.0</td>\n",
       "      <td>217.0</td>\n",
       "      <td>602.0</td>\n",
       "      <td>912.0</td>\n",
       "      <td>862.0</td>\n",
       "      <td>867.0</td>\n",
       "      <td>559.0</td>\n",
       "      <td>465.0</td>\n",
       "      <td>305.0</td>\n",
       "      <td>226.0</td>\n",
       "      <td>...</td>\n",
       "      <td>0.0</td>\n",
       "      <td>1.0</td>\n",
       "      <td>0.0</td>\n",
       "      <td>0.0</td>\n",
       "      <td>0.0</td>\n",
       "      <td>0.0</td>\n",
       "      <td>0.0</td>\n",
       "      <td>0.0</td>\n",
       "      <td>0.0</td>\n",
       "      <td>5627.0</td>\n",
       "    </tr>\n",
       "    <tr>\n",
       "      <th>Current</th>\n",
       "      <td>1.0</td>\n",
       "      <td>8.0</td>\n",
       "      <td>64.0</td>\n",
       "      <td>106.0</td>\n",
       "      <td>176.0</td>\n",
       "      <td>169.0</td>\n",
       "      <td>125.0</td>\n",
       "      <td>115.0</td>\n",
       "      <td>106.0</td>\n",
       "      <td>64.0</td>\n",
       "      <td>...</td>\n",
       "      <td>0.0</td>\n",
       "      <td>0.0</td>\n",
       "      <td>0.0</td>\n",
       "      <td>0.0</td>\n",
       "      <td>0.0</td>\n",
       "      <td>0.0</td>\n",
       "      <td>0.0</td>\n",
       "      <td>0.0</td>\n",
       "      <td>0.0</td>\n",
       "      <td>1140.0</td>\n",
       "    </tr>\n",
       "    <tr>\n",
       "      <th>Fully Paid</th>\n",
       "      <td>78.0</td>\n",
       "      <td>865.0</td>\n",
       "      <td>2769.0</td>\n",
       "      <td>4235.0</td>\n",
       "      <td>4829.0</td>\n",
       "      <td>4705.0</td>\n",
       "      <td>3537.0</td>\n",
       "      <td>3060.0</td>\n",
       "      <td>2205.0</td>\n",
       "      <td>1778.0</td>\n",
       "      <td>...</td>\n",
       "      <td>4.0</td>\n",
       "      <td>0.0</td>\n",
       "      <td>1.0</td>\n",
       "      <td>1.0</td>\n",
       "      <td>1.0</td>\n",
       "      <td>1.0</td>\n",
       "      <td>1.0</td>\n",
       "      <td>1.0</td>\n",
       "      <td>1.0</td>\n",
       "      <td>32950.0</td>\n",
       "    </tr>\n",
       "  </tbody>\n",
       "</table>\n",
       "<p>3 rows × 88 columns</p>\n",
       "</div>"
      ],
      "text/plain": [
       "annual_inc_category  10000  20000   30000   40000   50000   60000   70000  \\\n",
       "loan_status                                                                 \n",
       "Charged Off           20.0  217.0   602.0   912.0   862.0   867.0   559.0   \n",
       "Current                1.0    8.0    64.0   106.0   176.0   169.0   125.0   \n",
       "Fully Paid            78.0  865.0  2769.0  4235.0  4829.0  4705.0  3537.0   \n",
       "\n",
       "annual_inc_category   80000   90000  100000  ...  1200000  1250000  1370000  \\\n",
       "loan_status                                  ...                              \n",
       "Charged Off           465.0   305.0   226.0  ...      0.0      1.0      0.0   \n",
       "Current               115.0   106.0    64.0  ...      0.0      0.0      0.0   \n",
       "Fully Paid           3060.0  2205.0  1778.0  ...      4.0      0.0      1.0   \n",
       "\n",
       "annual_inc_category  1440000  1790000  1900000  2040000  3900000  6000000  \\\n",
       "loan_status                                                                 \n",
       "Charged Off              0.0      0.0      0.0      0.0      0.0      0.0   \n",
       "Current                  0.0      0.0      0.0      0.0      0.0      0.0   \n",
       "Fully Paid               1.0      1.0      1.0      1.0      1.0      1.0   \n",
       "\n",
       "annual_inc_category    total  \n",
       "loan_status                   \n",
       "Charged Off           5627.0  \n",
       "Current               1140.0  \n",
       "Fully Paid           32950.0  \n",
       "\n",
       "[3 rows x 88 columns]"
      ]
     },
     "execution_count": 271,
     "metadata": {},
     "output_type": "execute_result"
    }
   ],
   "source": [
    "plot_this = raw_data.pivot_table(index='loan_status', columns='annual_inc_category', values='member_id', aggfunc='count').fillna(0)\n",
    "plot_this['total'] = plot_this.sum(axis=1)\n",
    "plot_this"
   ]
  },
  {
   "cell_type": "code",
   "execution_count": 272,
   "metadata": {},
   "outputs": [
    {
     "data": {
      "text/plain": [
       "<AxesSubplot:xlabel='annual_inc_category'>"
      ]
     },
     "execution_count": 272,
     "metadata": {},
     "output_type": "execute_result"
    },
    {
     "data": {
      "image/png": "[encoded data removed]",
      "text/plain": [
       "<Figure size 1080x720 with 1 Axes>"
      ]
     },
     "metadata": {},
     "output_type": "display_data"
    }
   ],
   "source": [
    "sns.barplot(x = plot_this.iloc[0, :-1].index, y = plot_this.iloc[0, :-1].values)"
   ]
  },
  {
   "cell_type": "code",
   "execution_count": 273,
   "metadata": {},
   "outputs": [
    {
     "data": {
      "text/plain": [
       "<AxesSubplot:xlabel='annual_inc_category'>"
      ]
     },
     "execution_count": 273,
     "metadata": {},
     "output_type": "execute_result"
    },
    {
     "data": {
      "image/png": "[encoded data removed]",
      "text/plain": [
       "<Figure size 1080x720 with 1 Axes>"
      ]
     },
     "metadata": {},
     "output_type": "display_data"
    }
   ],
   "source": [
    "sns.barplot(x = plot_this.iloc[2, :-1].index, y = plot_this.iloc[2, :-1].values)"
   ]
  },
  {
   "cell_type": "code",
   "execution_count": 274,
   "metadata": {},
   "outputs": [
    {
     "data": {
      "text/html": [
       "<div>\n",
       "<style scoped>\n",
       "    .dataframe tbody tr th:only-of-type {\n",
       "        vertical-align: middle;\n",
       "    }\n",
       "\n",
       "    .dataframe tbody tr th {\n",
       "        vertical-align: top;\n",
       "    }\n",
       "\n",
       "    .dataframe thead th {\n",
       "        text-align: right;\n",
       "    }\n",
       "</style>\n",
       "<table border=\"1\" class=\"dataframe\">\n",
       "  <thead>\n",
       "    <tr style=\"text-align: right;\">\n",
       "      <th>verification_status</th>\n",
       "      <th>Not Verified</th>\n",
       "      <th>Source Verified</th>\n",
       "      <th>Verified</th>\n",
       "      <th>total</th>\n",
       "    </tr>\n",
       "    <tr>\n",
       "      <th>loan_status</th>\n",
       "      <th></th>\n",
       "      <th></th>\n",
       "      <th></th>\n",
       "      <th></th>\n",
       "    </tr>\n",
       "  </thead>\n",
       "  <tbody>\n",
       "    <tr>\n",
       "      <th>Charged Off</th>\n",
       "      <td>2142</td>\n",
       "      <td>1434</td>\n",
       "      <td>2051</td>\n",
       "      <td>5627</td>\n",
       "    </tr>\n",
       "    <tr>\n",
       "      <th>Current</th>\n",
       "      <td>227</td>\n",
       "      <td>310</td>\n",
       "      <td>603</td>\n",
       "      <td>1140</td>\n",
       "    </tr>\n",
       "    <tr>\n",
       "      <th>Fully Paid</th>\n",
       "      <td>14552</td>\n",
       "      <td>8243</td>\n",
       "      <td>10155</td>\n",
       "      <td>32950</td>\n",
       "    </tr>\n",
       "  </tbody>\n",
       "</table>\n",
       "</div>"
      ],
      "text/plain": [
       "verification_status  Not Verified  Source Verified  Verified  total\n",
       "loan_status                                                        \n",
       "Charged Off                  2142             1434      2051   5627\n",
       "Current                       227              310       603   1140\n",
       "Fully Paid                  14552             8243     10155  32950"
      ]
     },
     "execution_count": 274,
     "metadata": {},
     "output_type": "execute_result"
    }
   ],
   "source": [
    "plot_this = raw_data.pivot_table(index='loan_status', columns='verification_status', values='member_id', aggfunc='count').fillna(0)\n",
    "plot_this['total'] = plot_this.sum(axis=1)\n",
    "plot_this"
   ]
  },
  {
   "cell_type": "code",
   "execution_count": 275,
   "metadata": {},
   "outputs": [
    {
     "data": {
      "text/plain": [
       "<AxesSubplot:xlabel='verification_status', ylabel='loan_status'>"
      ]
     },
     "execution_count": 275,
     "metadata": {},
     "output_type": "execute_result"
    },
    {
     "data": {
      "image/png": "[encoded data removed]",
      "text/plain": [
       "<Figure size 1080x720 with 2 Axes>"
      ]
     },
     "metadata": {},
     "output_type": "display_data"
    }
   ],
   "source": [
    "sns.heatmap(plot_this.iloc[:,:-1].div(plot_this[\"total\"], axis=0)*100, annot=True)"
   ]
  },
  {
   "cell_type": "code",
   "execution_count": 277,
   "metadata": {},
   "outputs": [],
   "source": [
    "raw_data['issue_d_year'] = pd.DatetimeIndex(raw_data['issue_d']).year"
   ]
  },
  {
   "cell_type": "code",
   "execution_count": 278,
   "metadata": {},
   "outputs": [
    {
     "data": {
      "text/html": [
       "<div>\n",
       "<style scoped>\n",
       "    .dataframe tbody tr th:only-of-type {\n",
       "        vertical-align: middle;\n",
       "    }\n",
       "\n",
       "    .dataframe tbody tr th {\n",
       "        vertical-align: top;\n",
       "    }\n",
       "\n",
       "    .dataframe thead th {\n",
       "        text-align: right;\n",
       "    }\n",
       "</style>\n",
       "<table border=\"1\" class=\"dataframe\">\n",
       "  <thead>\n",
       "    <tr style=\"text-align: right;\">\n",
       "      <th>issue_d_year</th>\n",
       "      <th>2007</th>\n",
       "      <th>2008</th>\n",
       "      <th>2009</th>\n",
       "      <th>2010</th>\n",
       "      <th>2011</th>\n",
       "      <th>total</th>\n",
       "    </tr>\n",
       "    <tr>\n",
       "      <th>loan_status</th>\n",
       "      <th></th>\n",
       "      <th></th>\n",
       "      <th></th>\n",
       "      <th></th>\n",
       "      <th></th>\n",
       "      <th></th>\n",
       "    </tr>\n",
       "  </thead>\n",
       "  <tbody>\n",
       "    <tr>\n",
       "      <th>Charged Off</th>\n",
       "      <td>45.0</td>\n",
       "      <td>247.0</td>\n",
       "      <td>594.0</td>\n",
       "      <td>1485.0</td>\n",
       "      <td>3256.0</td>\n",
       "      <td>5627.0</td>\n",
       "    </tr>\n",
       "    <tr>\n",
       "      <th>Current</th>\n",
       "      <td>0.0</td>\n",
       "      <td>0.0</td>\n",
       "      <td>0.0</td>\n",
       "      <td>0.0</td>\n",
       "      <td>1140.0</td>\n",
       "      <td>1140.0</td>\n",
       "    </tr>\n",
       "    <tr>\n",
       "      <th>Fully Paid</th>\n",
       "      <td>206.0</td>\n",
       "      <td>1315.0</td>\n",
       "      <td>4122.0</td>\n",
       "      <td>10047.0</td>\n",
       "      <td>17260.0</td>\n",
       "      <td>32950.0</td>\n",
       "    </tr>\n",
       "  </tbody>\n",
       "</table>\n",
       "</div>"
      ],
      "text/plain": [
       "issue_d_year   2007    2008    2009     2010     2011    total\n",
       "loan_status                                                   \n",
       "Charged Off    45.0   247.0   594.0   1485.0   3256.0   5627.0\n",
       "Current         0.0     0.0     0.0      0.0   1140.0   1140.0\n",
       "Fully Paid    206.0  1315.0  4122.0  10047.0  17260.0  32950.0"
      ]
     },
     "execution_count": 278,
     "metadata": {},
     "output_type": "execute_result"
    }
   ],
   "source": [
    "plot_this = raw_data.pivot_table(index='loan_status', columns='issue_d_year', values='member_id', aggfunc='count').fillna(0)\n",
    "plot_this['total'] = plot_this.sum(axis=1)\n",
    "plot_this"
   ]
  },
  {
   "cell_type": "code",
   "execution_count": 279,
   "metadata": {},
   "outputs": [
    {
     "data": {
      "text/plain": [
       "<AxesSubplot:xlabel='issue_d_year', ylabel='loan_status'>"
      ]
     },
     "execution_count": 279,
     "metadata": {},
     "output_type": "execute_result"
    },
    {
     "data": {
      "image/png": "[encoded data removed]",
      "text/plain": [
       "<Figure size 1080x720 with 2 Axes>"
      ]
     },
     "metadata": {},
     "output_type": "display_data"
    }
   ],
   "source": [
    "sns.heatmap(plot_this.iloc[:,:-1].div(plot_this[\"total\"], axis=0)*100, annot=True)"
   ]
  },
  {
   "cell_type": "code",
   "execution_count": 280,
   "metadata": {},
   "outputs": [],
   "source": [
    "raw_data['issue_d_month'] = pd.DatetimeIndex(raw_data['issue_d']).month"
   ]
  },
  {
   "cell_type": "code",
   "execution_count": 281,
   "metadata": {},
   "outputs": [
    {
     "data": {
      "text/html": [
       "<div>\n",
       "<style scoped>\n",
       "    .dataframe tbody tr th:only-of-type {\n",
       "        vertical-align: middle;\n",
       "    }\n",
       "\n",
       "    .dataframe tbody tr th {\n",
       "        vertical-align: top;\n",
       "    }\n",
       "\n",
       "    .dataframe thead th {\n",
       "        text-align: right;\n",
       "    }\n",
       "</style>\n",
       "<table border=\"1\" class=\"dataframe\">\n",
       "  <thead>\n",
       "    <tr style=\"text-align: right;\">\n",
       "      <th>issue_d_month</th>\n",
       "      <th>1</th>\n",
       "      <th>2</th>\n",
       "      <th>3</th>\n",
       "      <th>4</th>\n",
       "      <th>5</th>\n",
       "      <th>6</th>\n",
       "      <th>7</th>\n",
       "      <th>8</th>\n",
       "      <th>9</th>\n",
       "      <th>10</th>\n",
       "      <th>11</th>\n",
       "      <th>12</th>\n",
       "      <th>total</th>\n",
       "    </tr>\n",
       "    <tr>\n",
       "      <th>loan_status</th>\n",
       "      <th></th>\n",
       "      <th></th>\n",
       "      <th></th>\n",
       "      <th></th>\n",
       "      <th></th>\n",
       "      <th></th>\n",
       "      <th></th>\n",
       "      <th></th>\n",
       "      <th></th>\n",
       "      <th></th>\n",
       "      <th></th>\n",
       "      <th></th>\n",
       "      <th></th>\n",
       "    </tr>\n",
       "  </thead>\n",
       "  <tbody>\n",
       "    <tr>\n",
       "      <th>Charged Off</th>\n",
       "      <td>321.0</td>\n",
       "      <td>290.0</td>\n",
       "      <td>347.0</td>\n",
       "      <td>370.0</td>\n",
       "      <td>466.0</td>\n",
       "      <td>483.0</td>\n",
       "      <td>479.0</td>\n",
       "      <td>468.0</td>\n",
       "      <td>547.0</td>\n",
       "      <td>580.0</td>\n",
       "      <td>598.0</td>\n",
       "      <td>678.0</td>\n",
       "      <td>5627.0</td>\n",
       "    </tr>\n",
       "    <tr>\n",
       "      <th>Current</th>\n",
       "      <td>0.0</td>\n",
       "      <td>0.0</td>\n",
       "      <td>1.0</td>\n",
       "      <td>3.0</td>\n",
       "      <td>80.0</td>\n",
       "      <td>99.0</td>\n",
       "      <td>125.0</td>\n",
       "      <td>130.0</td>\n",
       "      <td>150.0</td>\n",
       "      <td>173.0</td>\n",
       "      <td>161.0</td>\n",
       "      <td>218.0</td>\n",
       "      <td>1140.0</td>\n",
       "    </tr>\n",
       "    <tr>\n",
       "      <th>Fully Paid</th>\n",
       "      <td>2058.0</td>\n",
       "      <td>2068.0</td>\n",
       "      <td>2344.0</td>\n",
       "      <td>2461.0</td>\n",
       "      <td>2453.0</td>\n",
       "      <td>2697.0</td>\n",
       "      <td>2872.0</td>\n",
       "      <td>2920.0</td>\n",
       "      <td>2951.0</td>\n",
       "      <td>3181.0</td>\n",
       "      <td>3408.0</td>\n",
       "      <td>3537.0</td>\n",
       "      <td>32950.0</td>\n",
       "    </tr>\n",
       "  </tbody>\n",
       "</table>\n",
       "</div>"
      ],
      "text/plain": [
       "issue_d_month       1       2       3       4       5       6       7       8  \\\n",
       "loan_status                                                                     \n",
       "Charged Off     321.0   290.0   347.0   370.0   466.0   483.0   479.0   468.0   \n",
       "Current           0.0     0.0     1.0     3.0    80.0    99.0   125.0   130.0   \n",
       "Fully Paid     2058.0  2068.0  2344.0  2461.0  2453.0  2697.0  2872.0  2920.0   \n",
       "\n",
       "issue_d_month       9      10      11      12    total  \n",
       "loan_status                                             \n",
       "Charged Off     547.0   580.0   598.0   678.0   5627.0  \n",
       "Current         150.0   173.0   161.0   218.0   1140.0  \n",
       "Fully Paid     2951.0  3181.0  3408.0  3537.0  32950.0  "
      ]
     },
     "execution_count": 281,
     "metadata": {},
     "output_type": "execute_result"
    }
   ],
   "source": [
    "plot_this = raw_data.pivot_table(index='loan_status', columns='issue_d_month', values='member_id', aggfunc='count').fillna(0)\n",
    "plot_this['total'] = plot_this.sum(axis=1)\n",
    "plot_this"
   ]
  },
  {
   "cell_type": "code",
   "execution_count": 282,
   "metadata": {},
   "outputs": [
    {
     "data": {
      "text/plain": [
       "<AxesSubplot:xlabel='issue_d_month', ylabel='loan_status'>"
      ]
     },
     "execution_count": 282,
     "metadata": {},
     "output_type": "execute_result"
    },
    {
     "data": {
      "image/png": "[encoded data removed]",
      "text/plain": [
       "<Figure size 1080x720 with 2 Axes>"
      ]
     },
     "metadata": {},
     "output_type": "display_data"
    }
   ],
   "source": [
    "sns.heatmap(plot_this.iloc[:,:-1].div(plot_this[\"total\"], axis=0)*100, annot=True)"
   ]
  },
  {
   "cell_type": "code",
   "execution_count": 283,
   "metadata": {},
   "outputs": [
    {
     "data": {
      "text/html": [
       "<div>\n",
       "<style scoped>\n",
       "    .dataframe tbody tr th:only-of-type {\n",
       "        vertical-align: middle;\n",
       "    }\n",
       "\n",
       "    .dataframe tbody tr th {\n",
       "        vertical-align: top;\n",
       "    }\n",
       "\n",
       "    .dataframe thead th {\n",
       "        text-align: right;\n",
       "    }\n",
       "</style>\n",
       "<table border=\"1\" class=\"dataframe\">\n",
       "  <thead>\n",
       "    <tr style=\"text-align: right;\">\n",
       "      <th>purpose</th>\n",
       "      <th>Car</th>\n",
       "      <th>Credit Card</th>\n",
       "      <th>Debt Consolidation</th>\n",
       "      <th>Educational</th>\n",
       "      <th>Home Improvement</th>\n",
       "      <th>House</th>\n",
       "      <th>Major Purchase</th>\n",
       "      <th>Medical</th>\n",
       "      <th>Moving</th>\n",
       "      <th>Other</th>\n",
       "      <th>Renewable Energy</th>\n",
       "      <th>Small Business</th>\n",
       "      <th>Vacation</th>\n",
       "      <th>Wedding</th>\n",
       "      <th>total</th>\n",
       "    </tr>\n",
       "    <tr>\n",
       "      <th>loan_status</th>\n",
       "      <th></th>\n",
       "      <th></th>\n",
       "      <th></th>\n",
       "      <th></th>\n",
       "      <th></th>\n",
       "      <th></th>\n",
       "      <th></th>\n",
       "      <th></th>\n",
       "      <th></th>\n",
       "      <th></th>\n",
       "      <th></th>\n",
       "      <th></th>\n",
       "      <th></th>\n",
       "      <th></th>\n",
       "      <th></th>\n",
       "    </tr>\n",
       "  </thead>\n",
       "  <tbody>\n",
       "    <tr>\n",
       "      <th>Charged Off</th>\n",
       "      <td>160.0</td>\n",
       "      <td>542.0</td>\n",
       "      <td>2767.0</td>\n",
       "      <td>56.0</td>\n",
       "      <td>347.0</td>\n",
       "      <td>59.0</td>\n",
       "      <td>222.0</td>\n",
       "      <td>106.0</td>\n",
       "      <td>92.0</td>\n",
       "      <td>633.0</td>\n",
       "      <td>19.0</td>\n",
       "      <td>475.0</td>\n",
       "      <td>53.0</td>\n",
       "      <td>96.0</td>\n",
       "      <td>5627.0</td>\n",
       "    </tr>\n",
       "    <tr>\n",
       "      <th>Current</th>\n",
       "      <td>50.0</td>\n",
       "      <td>103.0</td>\n",
       "      <td>586.0</td>\n",
       "      <td>0.0</td>\n",
       "      <td>101.0</td>\n",
       "      <td>14.0</td>\n",
       "      <td>37.0</td>\n",
       "      <td>12.0</td>\n",
       "      <td>7.0</td>\n",
       "      <td>128.0</td>\n",
       "      <td>1.0</td>\n",
       "      <td>74.0</td>\n",
       "      <td>6.0</td>\n",
       "      <td>21.0</td>\n",
       "      <td>1140.0</td>\n",
       "    </tr>\n",
       "    <tr>\n",
       "      <th>Fully Paid</th>\n",
       "      <td>1339.0</td>\n",
       "      <td>4485.0</td>\n",
       "      <td>15288.0</td>\n",
       "      <td>269.0</td>\n",
       "      <td>2528.0</td>\n",
       "      <td>308.0</td>\n",
       "      <td>1928.0</td>\n",
       "      <td>575.0</td>\n",
       "      <td>484.0</td>\n",
       "      <td>3232.0</td>\n",
       "      <td>83.0</td>\n",
       "      <td>1279.0</td>\n",
       "      <td>322.0</td>\n",
       "      <td>830.0</td>\n",
       "      <td>32950.0</td>\n",
       "    </tr>\n",
       "  </tbody>\n",
       "</table>\n",
       "</div>"
      ],
      "text/plain": [
       "purpose         Car  Credit Card  Debt Consolidation  Educational  \\\n",
       "loan_status                                                         \n",
       "Charged Off   160.0        542.0              2767.0         56.0   \n",
       "Current        50.0        103.0               586.0          0.0   \n",
       "Fully Paid   1339.0       4485.0             15288.0        269.0   \n",
       "\n",
       "purpose      Home Improvement  House  Major Purchase  Medical  Moving   Other  \\\n",
       "loan_status                                                                     \n",
       "Charged Off             347.0   59.0           222.0    106.0    92.0   633.0   \n",
       "Current                 101.0   14.0            37.0     12.0     7.0   128.0   \n",
       "Fully Paid             2528.0  308.0          1928.0    575.0   484.0  3232.0   \n",
       "\n",
       "purpose      Renewable Energy  Small Business  Vacation  Wedding    total  \n",
       "loan_status                                                                \n",
       "Charged Off              19.0           475.0      53.0     96.0   5627.0  \n",
       "Current                   1.0            74.0       6.0     21.0   1140.0  \n",
       "Fully Paid               83.0          1279.0     322.0    830.0  32950.0  "
      ]
     },
     "execution_count": 283,
     "metadata": {},
     "output_type": "execute_result"
    }
   ],
   "source": [
    "plot_this = raw_data.pivot_table(index='loan_status', columns='purpose', values='member_id', aggfunc='count').fillna(0)\n",
    "plot_this['total'] = plot_this.sum(axis=1)\n",
    "plot_this"
   ]
  },
  {
   "cell_type": "code",
   "execution_count": 284,
   "metadata": {},
   "outputs": [
    {
     "data": {
      "text/plain": [
       "<AxesSubplot:xlabel='purpose', ylabel='loan_status'>"
      ]
     },
     "execution_count": 284,
     "metadata": {},
     "output_type": "execute_result"
    },
    {
     "data": {
      "image/png": "[encoded data removed]",
      "text/plain": [
       "<Figure size 1080x720 with 2 Axes>"
      ]
     },
     "metadata": {},
     "output_type": "display_data"
    }
   ],
   "source": [
    "sns.heatmap(plot_this.iloc[:,:-1].div(plot_this[\"total\"], axis=0)*100, annot=True)"
   ]
  },
  {
   "cell_type": "code",
   "execution_count": 285,
   "metadata": {},
   "outputs": [
    {
     "data": {
      "text/html": [
       "<div>\n",
       "<style scoped>\n",
       "    .dataframe tbody tr th:only-of-type {\n",
       "        vertical-align: middle;\n",
       "    }\n",
       "\n",
       "    .dataframe tbody tr th {\n",
       "        vertical-align: top;\n",
       "    }\n",
       "\n",
       "    .dataframe thead th {\n",
       "        text-align: right;\n",
       "    }\n",
       "</style>\n",
       "<table border=\"1\" class=\"dataframe\">\n",
       "  <thead>\n",
       "    <tr style=\"text-align: right;\">\n",
       "      <th>addr_state_name</th>\n",
       "      <th>Alabama</th>\n",
       "      <th>Alaska</th>\n",
       "      <th>Arizona</th>\n",
       "      <th>Arkansas</th>\n",
       "      <th>California</th>\n",
       "      <th>Colorado</th>\n",
       "      <th>Connecticut</th>\n",
       "      <th>Delaware</th>\n",
       "      <th>Florida</th>\n",
       "      <th>Georgia</th>\n",
       "      <th>...</th>\n",
       "      <th>Tennessee</th>\n",
       "      <th>Texas</th>\n",
       "      <th>Utah</th>\n",
       "      <th>Vermont</th>\n",
       "      <th>Virginia</th>\n",
       "      <th>Washington</th>\n",
       "      <th>West Virginia</th>\n",
       "      <th>Wisconsin</th>\n",
       "      <th>Wyoming</th>\n",
       "      <th>total</th>\n",
       "    </tr>\n",
       "    <tr>\n",
       "      <th>loan_status</th>\n",
       "      <th></th>\n",
       "      <th></th>\n",
       "      <th></th>\n",
       "      <th></th>\n",
       "      <th></th>\n",
       "      <th></th>\n",
       "      <th></th>\n",
       "      <th></th>\n",
       "      <th></th>\n",
       "      <th></th>\n",
       "      <th></th>\n",
       "      <th></th>\n",
       "      <th></th>\n",
       "      <th></th>\n",
       "      <th></th>\n",
       "      <th></th>\n",
       "      <th></th>\n",
       "      <th></th>\n",
       "      <th></th>\n",
       "      <th></th>\n",
       "      <th></th>\n",
       "    </tr>\n",
       "  </thead>\n",
       "  <tbody>\n",
       "    <tr>\n",
       "      <th>Charged Off</th>\n",
       "      <td>54.0</td>\n",
       "      <td>15.0</td>\n",
       "      <td>123.0</td>\n",
       "      <td>27.0</td>\n",
       "      <td>1125.0</td>\n",
       "      <td>98.0</td>\n",
       "      <td>94.0</td>\n",
       "      <td>12.0</td>\n",
       "      <td>504.0</td>\n",
       "      <td>215.0</td>\n",
       "      <td>...</td>\n",
       "      <td>2.0</td>\n",
       "      <td>316.0</td>\n",
       "      <td>40.0</td>\n",
       "      <td>6.0</td>\n",
       "      <td>177.0</td>\n",
       "      <td>127.0</td>\n",
       "      <td>21.0</td>\n",
       "      <td>63.0</td>\n",
       "      <td>4.0</td>\n",
       "      <td>5612.0</td>\n",
       "    </tr>\n",
       "    <tr>\n",
       "      <th>Current</th>\n",
       "      <td>17.0</td>\n",
       "      <td>2.0</td>\n",
       "      <td>30.0</td>\n",
       "      <td>10.0</td>\n",
       "      <td>150.0</td>\n",
       "      <td>26.0</td>\n",
       "      <td>25.0</td>\n",
       "      <td>1.0</td>\n",
       "      <td>85.0</td>\n",
       "      <td>39.0</td>\n",
       "      <td>...</td>\n",
       "      <td>0.0</td>\n",
       "      <td>68.0</td>\n",
       "      <td>6.0</td>\n",
       "      <td>1.0</td>\n",
       "      <td>38.0</td>\n",
       "      <td>22.0</td>\n",
       "      <td>5.0</td>\n",
       "      <td>20.0</td>\n",
       "      <td>3.0</td>\n",
       "      <td>1137.0</td>\n",
       "    </tr>\n",
       "    <tr>\n",
       "      <th>Fully Paid</th>\n",
       "      <td>381.0</td>\n",
       "      <td>63.0</td>\n",
       "      <td>726.0</td>\n",
       "      <td>208.0</td>\n",
       "      <td>5824.0</td>\n",
       "      <td>668.0</td>\n",
       "      <td>632.0</td>\n",
       "      <td>101.0</td>\n",
       "      <td>2277.0</td>\n",
       "      <td>1144.0</td>\n",
       "      <td>...</td>\n",
       "      <td>15.0</td>\n",
       "      <td>2343.0</td>\n",
       "      <td>212.0</td>\n",
       "      <td>47.0</td>\n",
       "      <td>1192.0</td>\n",
       "      <td>691.0</td>\n",
       "      <td>151.0</td>\n",
       "      <td>377.0</td>\n",
       "      <td>76.0</td>\n",
       "      <td>32754.0</td>\n",
       "    </tr>\n",
       "  </tbody>\n",
       "</table>\n",
       "<p>3 rows × 50 columns</p>\n",
       "</div>"
      ],
      "text/plain": [
       "addr_state_name  Alabama  Alaska  Arizona  Arkansas  California  Colorado  \\\n",
       "loan_status                                                                 \n",
       "Charged Off         54.0    15.0    123.0      27.0      1125.0      98.0   \n",
       "Current             17.0     2.0     30.0      10.0       150.0      26.0   \n",
       "Fully Paid         381.0    63.0    726.0     208.0      5824.0     668.0   \n",
       "\n",
       "addr_state_name  Connecticut  Delaware  Florida  Georgia  ...  Tennessee  \\\n",
       "loan_status                                               ...              \n",
       "Charged Off             94.0      12.0    504.0    215.0  ...        2.0   \n",
       "Current                 25.0       1.0     85.0     39.0  ...        0.0   \n",
       "Fully Paid             632.0     101.0   2277.0   1144.0  ...       15.0   \n",
       "\n",
       "addr_state_name   Texas   Utah  Vermont  Virginia  Washington  West Virginia  \\\n",
       "loan_status                                                                    \n",
       "Charged Off       316.0   40.0      6.0     177.0       127.0           21.0   \n",
       "Current            68.0    6.0      1.0      38.0        22.0            5.0   \n",
       "Fully Paid       2343.0  212.0     47.0    1192.0       691.0          151.0   \n",
       "\n",
       "addr_state_name  Wisconsin  Wyoming    total  \n",
       "loan_status                                   \n",
       "Charged Off           63.0      4.0   5612.0  \n",
       "Current               20.0      3.0   1137.0  \n",
       "Fully Paid           377.0     76.0  32754.0  \n",
       "\n",
       "[3 rows x 50 columns]"
      ]
     },
     "execution_count": 285,
     "metadata": {},
     "output_type": "execute_result"
    }
   ],
   "source": [
    "plot_this = raw_data.pivot_table(index='loan_status', columns='addr_state_name', values='member_id', aggfunc='count').fillna(0)\n",
    "plot_this['total'] = plot_this.sum(axis=1)\n",
    "plot_this"
   ]
  },
  {
   "cell_type": "code",
   "execution_count": 286,
   "metadata": {},
   "outputs": [
    {
     "data": {
      "text/plain": [
       "<AxesSubplot:xlabel='addr_state_name', ylabel='loan_status'>"
      ]
     },
     "execution_count": 286,
     "metadata": {},
     "output_type": "execute_result"
    },
    {
     "data": {
      "image/png": "[encoded data removed]",
      "text/plain": [
       "<Figure size 1080x720 with 2 Axes>"
      ]
     },
     "metadata": {},
     "output_type": "display_data"
    }
   ],
   "source": [
    "sns.heatmap(plot_this.iloc[:,:-1].div(plot_this[\"total\"], axis=0)*100)"
   ]
  },
  {
   "cell_type": "code",
   "execution_count": null,
   "metadata": {},
   "outputs": [],
   "source": []
  }
 ],
 "metadata": {
  "kernelspec": {
   "display_name": "Python 3",
   "language": "python",
   "name": "python3"
  },
  "language_info": {
   "codemirror_mode": {
    "name": "ipython",
    "version": 3
   },
   "file_extension": ".py",
   "mimetype": "text/x-python",
   "name": "python",
   "nbconvert_exporter": "python",
   "pygments_lexer": "ipython3",
   "version": "3.8.5"
  }
 },
 "nbformat": 4,
 "nbformat_minor": 4
}
