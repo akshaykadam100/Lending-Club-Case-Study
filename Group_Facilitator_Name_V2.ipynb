{
 "cells": [
  {
   "cell_type": "markdown",
   "metadata": {},
   "source": [
    "# Importing Required Libraries & Datasets"
   ]
  },
  {
   "cell_type": "code",
   "execution_count": 2,
   "metadata": {},
   "outputs": [],
   "source": [
    "import pandas as pd\n",
    "import numpy as np\n",
    "import matplotlib.pyplot as plt\n",
    "import seaborn as sns\n",
    "import re"
   ]
  },
  {
   "cell_type": "code",
   "execution_count": 3,
   "metadata": {},
   "outputs": [],
   "source": [
    "sns.set(rc={'figure.figsize':(15,10)})"
   ]
  },
  {
   "cell_type": "code",
   "execution_count": 4,
   "metadata": {},
   "outputs": [],
   "source": [
    "raw_data = pd.read_csv('loan.csv', index_col='id')"
   ]
  },
  {
   "cell_type": "code",
   "execution_count": 5,
   "metadata": {},
   "outputs": [
    {
     "data": {
      "text/html": [
       "<div>\n",
       "<style scoped>\n",
       "    .dataframe tbody tr th:only-of-type {\n",
       "        vertical-align: middle;\n",
       "    }\n",
       "\n",
       "    .dataframe tbody tr th {\n",
       "        vertical-align: top;\n",
       "    }\n",
       "\n",
       "    .dataframe thead th {\n",
       "        text-align: right;\n",
       "    }\n",
       "</style>\n",
       "<table border=\"1\" class=\"dataframe\">\n",
       "  <thead>\n",
       "    <tr style=\"text-align: right;\">\n",
       "      <th></th>\n",
       "      <th>member_id</th>\n",
       "      <th>loan_amnt</th>\n",
       "      <th>funded_amnt</th>\n",
       "      <th>funded_amnt_inv</th>\n",
       "      <th>term</th>\n",
       "      <th>int_rate</th>\n",
       "      <th>installment</th>\n",
       "      <th>grade</th>\n",
       "      <th>sub_grade</th>\n",
       "      <th>emp_title</th>\n",
       "      <th>...</th>\n",
       "      <th>num_tl_90g_dpd_24m</th>\n",
       "      <th>num_tl_op_past_12m</th>\n",
       "      <th>pct_tl_nvr_dlq</th>\n",
       "      <th>percent_bc_gt_75</th>\n",
       "      <th>pub_rec_bankruptcies</th>\n",
       "      <th>tax_liens</th>\n",
       "      <th>tot_hi_cred_lim</th>\n",
       "      <th>total_bal_ex_mort</th>\n",
       "      <th>total_bc_limit</th>\n",
       "      <th>total_il_high_credit_limit</th>\n",
       "    </tr>\n",
       "    <tr>\n",
       "      <th>id</th>\n",
       "      <th></th>\n",
       "      <th></th>\n",
       "      <th></th>\n",
       "      <th></th>\n",
       "      <th></th>\n",
       "      <th></th>\n",
       "      <th></th>\n",
       "      <th></th>\n",
       "      <th></th>\n",
       "      <th></th>\n",
       "      <th></th>\n",
       "      <th></th>\n",
       "      <th></th>\n",
       "      <th></th>\n",
       "      <th></th>\n",
       "      <th></th>\n",
       "      <th></th>\n",
       "      <th></th>\n",
       "      <th></th>\n",
       "      <th></th>\n",
       "      <th></th>\n",
       "    </tr>\n",
       "  </thead>\n",
       "  <tbody>\n",
       "    <tr>\n",
       "      <th>312505</th>\n",
       "      <td>312443</td>\n",
       "      <td>500</td>\n",
       "      <td>500</td>\n",
       "      <td>450.0</td>\n",
       "      <td>36 months</td>\n",
       "      <td>9.76%</td>\n",
       "      <td>16.08</td>\n",
       "      <td>B</td>\n",
       "      <td>B2</td>\n",
       "      <td>Hughes, Hubbard &amp; Reed LLP</td>\n",
       "      <td>...</td>\n",
       "      <td>NaN</td>\n",
       "      <td>NaN</td>\n",
       "      <td>NaN</td>\n",
       "      <td>NaN</td>\n",
       "      <td>0.0</td>\n",
       "      <td>0.0</td>\n",
       "      <td>NaN</td>\n",
       "      <td>NaN</td>\n",
       "      <td>NaN</td>\n",
       "      <td>NaN</td>\n",
       "    </tr>\n",
       "    <tr>\n",
       "      <th>242695</th>\n",
       "      <td>242682</td>\n",
       "      <td>500</td>\n",
       "      <td>500</td>\n",
       "      <td>500.0</td>\n",
       "      <td>36 months</td>\n",
       "      <td>10.71%</td>\n",
       "      <td>16.31</td>\n",
       "      <td>B</td>\n",
       "      <td>B5</td>\n",
       "      <td>NaN</td>\n",
       "      <td>...</td>\n",
       "      <td>NaN</td>\n",
       "      <td>NaN</td>\n",
       "      <td>NaN</td>\n",
       "      <td>NaN</td>\n",
       "      <td>NaN</td>\n",
       "      <td>0.0</td>\n",
       "      <td>NaN</td>\n",
       "      <td>NaN</td>\n",
       "      <td>NaN</td>\n",
       "      <td>NaN</td>\n",
       "    </tr>\n",
       "    <tr>\n",
       "      <th>216698</th>\n",
       "      <td>174214</td>\n",
       "      <td>500</td>\n",
       "      <td>500</td>\n",
       "      <td>500.0</td>\n",
       "      <td>36 months</td>\n",
       "      <td>10.46%</td>\n",
       "      <td>16.25</td>\n",
       "      <td>B</td>\n",
       "      <td>B5</td>\n",
       "      <td>THe University of Illinois</td>\n",
       "      <td>...</td>\n",
       "      <td>NaN</td>\n",
       "      <td>NaN</td>\n",
       "      <td>NaN</td>\n",
       "      <td>NaN</td>\n",
       "      <td>NaN</td>\n",
       "      <td>0.0</td>\n",
       "      <td>NaN</td>\n",
       "      <td>NaN</td>\n",
       "      <td>NaN</td>\n",
       "      <td>NaN</td>\n",
       "    </tr>\n",
       "    <tr>\n",
       "      <th>211133</th>\n",
       "      <td>210644</td>\n",
       "      <td>500</td>\n",
       "      <td>500</td>\n",
       "      <td>475.0</td>\n",
       "      <td>36 months</td>\n",
       "      <td>11.41%</td>\n",
       "      <td>16.47</td>\n",
       "      <td>C</td>\n",
       "      <td>C3</td>\n",
       "      <td>Global Travel International -and- Global Domai...</td>\n",
       "      <td>...</td>\n",
       "      <td>NaN</td>\n",
       "      <td>NaN</td>\n",
       "      <td>NaN</td>\n",
       "      <td>NaN</td>\n",
       "      <td>NaN</td>\n",
       "      <td>0.0</td>\n",
       "      <td>NaN</td>\n",
       "      <td>NaN</td>\n",
       "      <td>NaN</td>\n",
       "      <td>NaN</td>\n",
       "    </tr>\n",
       "    <tr>\n",
       "      <th>164346</th>\n",
       "      <td>163835</td>\n",
       "      <td>500</td>\n",
       "      <td>500</td>\n",
       "      <td>400.0</td>\n",
       "      <td>36 months</td>\n",
       "      <td>8.07%</td>\n",
       "      <td>15.69</td>\n",
       "      <td>A</td>\n",
       "      <td>A4</td>\n",
       "      <td>NaN</td>\n",
       "      <td>...</td>\n",
       "      <td>NaN</td>\n",
       "      <td>NaN</td>\n",
       "      <td>NaN</td>\n",
       "      <td>NaN</td>\n",
       "      <td>NaN</td>\n",
       "      <td>0.0</td>\n",
       "      <td>NaN</td>\n",
       "      <td>NaN</td>\n",
       "      <td>NaN</td>\n",
       "      <td>NaN</td>\n",
       "    </tr>\n",
       "    <tr>\n",
       "      <th>306018</th>\n",
       "      <td>305720</td>\n",
       "      <td>700</td>\n",
       "      <td>700</td>\n",
       "      <td>700.0</td>\n",
       "      <td>36 months</td>\n",
       "      <td>12.29%</td>\n",
       "      <td>23.35</td>\n",
       "      <td>C</td>\n",
       "      <td>C5</td>\n",
       "      <td>SDSU Residential Life</td>\n",
       "      <td>...</td>\n",
       "      <td>NaN</td>\n",
       "      <td>NaN</td>\n",
       "      <td>NaN</td>\n",
       "      <td>NaN</td>\n",
       "      <td>0.0</td>\n",
       "      <td>0.0</td>\n",
       "      <td>NaN</td>\n",
       "      <td>NaN</td>\n",
       "      <td>NaN</td>\n",
       "      <td>NaN</td>\n",
       "    </tr>\n",
       "    <tr>\n",
       "      <th>311591</th>\n",
       "      <td>311571</td>\n",
       "      <td>725</td>\n",
       "      <td>725</td>\n",
       "      <td>650.0</td>\n",
       "      <td>36 months</td>\n",
       "      <td>7.37%</td>\n",
       "      <td>22.51</td>\n",
       "      <td>A</td>\n",
       "      <td>A1</td>\n",
       "      <td>Team Awesome Productions, Inc.</td>\n",
       "      <td>...</td>\n",
       "      <td>NaN</td>\n",
       "      <td>NaN</td>\n",
       "      <td>NaN</td>\n",
       "      <td>NaN</td>\n",
       "      <td>0.0</td>\n",
       "      <td>0.0</td>\n",
       "      <td>NaN</td>\n",
       "      <td>NaN</td>\n",
       "      <td>NaN</td>\n",
       "      <td>NaN</td>\n",
       "    </tr>\n",
       "  </tbody>\n",
       "</table>\n",
       "<p>7 rows × 110 columns</p>\n",
       "</div>"
      ],
      "text/plain": [
       "        member_id  loan_amnt  funded_amnt  funded_amnt_inv        term  \\\n",
       "id                                                                       \n",
       "312505     312443        500          500            450.0   36 months   \n",
       "242695     242682        500          500            500.0   36 months   \n",
       "216698     174214        500          500            500.0   36 months   \n",
       "211133     210644        500          500            475.0   36 months   \n",
       "164346     163835        500          500            400.0   36 months   \n",
       "306018     305720        700          700            700.0   36 months   \n",
       "311591     311571        725          725            650.0   36 months   \n",
       "\n",
       "       int_rate  installment grade sub_grade  \\\n",
       "id                                             \n",
       "312505    9.76%        16.08     B        B2   \n",
       "242695   10.71%        16.31     B        B5   \n",
       "216698   10.46%        16.25     B        B5   \n",
       "211133   11.41%        16.47     C        C3   \n",
       "164346    8.07%        15.69     A        A4   \n",
       "306018   12.29%        23.35     C        C5   \n",
       "311591    7.37%        22.51     A        A1   \n",
       "\n",
       "                                                emp_title  ...  \\\n",
       "id                                                         ...   \n",
       "312505                         Hughes, Hubbard & Reed LLP  ...   \n",
       "242695                                                NaN  ...   \n",
       "216698                         THe University of Illinois  ...   \n",
       "211133  Global Travel International -and- Global Domai...  ...   \n",
       "164346                                                NaN  ...   \n",
       "306018                              SDSU Residential Life  ...   \n",
       "311591                     Team Awesome Productions, Inc.  ...   \n",
       "\n",
       "       num_tl_90g_dpd_24m num_tl_op_past_12m  pct_tl_nvr_dlq percent_bc_gt_75  \\\n",
       "id                                                                              \n",
       "312505                NaN                NaN             NaN              NaN   \n",
       "242695                NaN                NaN             NaN              NaN   \n",
       "216698                NaN                NaN             NaN              NaN   \n",
       "211133                NaN                NaN             NaN              NaN   \n",
       "164346                NaN                NaN             NaN              NaN   \n",
       "306018                NaN                NaN             NaN              NaN   \n",
       "311591                NaN                NaN             NaN              NaN   \n",
       "\n",
       "       pub_rec_bankruptcies tax_liens tot_hi_cred_lim total_bal_ex_mort  \\\n",
       "id                                                                        \n",
       "312505                  0.0       0.0             NaN               NaN   \n",
       "242695                  NaN       0.0             NaN               NaN   \n",
       "216698                  NaN       0.0             NaN               NaN   \n",
       "211133                  NaN       0.0             NaN               NaN   \n",
       "164346                  NaN       0.0             NaN               NaN   \n",
       "306018                  0.0       0.0             NaN               NaN   \n",
       "311591                  0.0       0.0             NaN               NaN   \n",
       "\n",
       "       total_bc_limit total_il_high_credit_limit  \n",
       "id                                                \n",
       "312505            NaN                        NaN  \n",
       "242695            NaN                        NaN  \n",
       "216698            NaN                        NaN  \n",
       "211133            NaN                        NaN  \n",
       "164346            NaN                        NaN  \n",
       "306018            NaN                        NaN  \n",
       "311591            NaN                        NaN  \n",
       "\n",
       "[7 rows x 110 columns]"
      ]
     },
     "execution_count": 5,
     "metadata": {},
     "output_type": "execute_result"
    }
   ],
   "source": [
    "raw_data.head(7)"
   ]
  },
  {
   "cell_type": "markdown",
   "metadata": {},
   "source": [
    "# 1. Cleaning Data"
   ]
  },
  {
   "cell_type": "markdown",
   "metadata": {},
   "source": [
    "### This step involves cleaning data and converting them into respective formats which can be easily considered for quick calculations"
   ]
  },
  {
   "cell_type": "markdown",
   "metadata": {},
   "source": [
    "### 1.1 Formatting Loan Term Column"
   ]
  },
  {
   "cell_type": "code",
   "execution_count": 6,
   "metadata": {},
   "outputs": [],
   "source": [
    "def extract_valid_month_from_months_column(row):\n",
    "    row = re.sub('[A-Za-z, ]', '', str(row))\n",
    "    return int(row)"
   ]
  },
  {
   "cell_type": "code",
   "execution_count": 7,
   "metadata": {},
   "outputs": [],
   "source": [
    "raw_data['term'] = raw_data.term.apply(extract_valid_month_from_months_column)"
   ]
  },
  {
   "cell_type": "markdown",
   "metadata": {},
   "source": [
    "### 1.2 Formatting Interest Column to Float Value"
   ]
  },
  {
   "cell_type": "code",
   "execution_count": 8,
   "metadata": {},
   "outputs": [],
   "source": [
    "def extract_valid_float_from_interest_column(row):\n",
    "    row = re.sub('[%, ]', '', str(row))\n",
    "    return float(row)"
   ]
  },
  {
   "cell_type": "code",
   "execution_count": 9,
   "metadata": {},
   "outputs": [],
   "source": [
    "raw_data['int_rate'] = raw_data.int_rate.apply(extract_valid_float_from_interest_column)"
   ]
  },
  {
   "cell_type": "markdown",
   "metadata": {},
   "source": [
    "### 1.3 Formatting Sub-Grade Column"
   ]
  },
  {
   "cell_type": "markdown",
   "metadata": {},
   "source": [
    "##### While comparing Grade & Sub-Grade column, it is observed that, alphabet in Sub-Grade column is same as alphabet in Grade Column. This can be verified by printing rows where value of \"Grade\" column is not equal to alphabet in \"Sub-Grade\" column. (If there are no values i.e. count is zero, while comparing this, we can be assured to drop alphabet from Sub-Grade column)"
   ]
  },
  {
   "cell_type": "code",
   "execution_count": 10,
   "metadata": {},
   "outputs": [
    {
     "data": {
      "text/plain": [
       "0"
      ]
     },
     "execution_count": 10,
     "metadata": {},
     "output_type": "execute_result"
    }
   ],
   "source": [
    "raw_data[raw_data['grade'] != raw_data.sub_grade.apply(lambda x: x[:1])].grade.count()"
   ]
  },
  {
   "cell_type": "markdown",
   "metadata": {},
   "source": [
    "##### So, we will proceed ahead with dropping the alphabet from Sub-Grade column"
   ]
  },
  {
   "cell_type": "code",
   "execution_count": 11,
   "metadata": {},
   "outputs": [],
   "source": [
    "def remove_alphabet_from_sub_grade_column(row):\n",
    "    row = re.sub('[A-Za-z]', '', str(row))\n",
    "    return int(row)"
   ]
  },
  {
   "cell_type": "code",
   "execution_count": 12,
   "metadata": {},
   "outputs": [],
   "source": [
    "raw_data['sub_grade'] = raw_data.sub_grade.apply(remove_alphabet_from_sub_grade_column)"
   ]
  },
  {
   "cell_type": "markdown",
   "metadata": {},
   "source": [
    "### 1.4 Formatting Employee Length (Years of Experience) Column"
   ]
  },
  {
   "cell_type": "code",
   "execution_count": 13,
   "metadata": {},
   "outputs": [],
   "source": [
    "def clean_employee_length_column(row):\n",
    "    row = re.sub('[A-Za-z, ]', '', str(row))\n",
    "    if row == '<1':\n",
    "        return 0\n",
    "    elif row == '10+':\n",
    "        return 10\n",
    "    elif row == '':\n",
    "        return np.nan\n",
    "    else:\n",
    "        return float(row)"
   ]
  },
  {
   "cell_type": "code",
   "execution_count": 14,
   "metadata": {
    "scrolled": true
   },
   "outputs": [],
   "source": [
    "raw_data['emp_length'] = raw_data.emp_length.apply(clean_employee_length_column)"
   ]
  },
  {
   "cell_type": "markdown",
   "metadata": {},
   "source": [
    "### 1.5 Formatting Ownership Column (Creating new mapped column)"
   ]
  },
  {
   "cell_type": "code",
   "execution_count": 15,
   "metadata": {},
   "outputs": [],
   "source": [
    "ownership_status_list = list(raw_data.home_ownership.unique())\n",
    "ownership_status_list.sort()"
   ]
  },
  {
   "cell_type": "code",
   "execution_count": 16,
   "metadata": {},
   "outputs": [
    {
     "data": {
      "text/plain": [
       "{'MORTGAGE': 0, 'NONE': 1, 'OTHER': 2, 'OWN': 3, 'RENT': 4}"
      ]
     },
     "execution_count": 16,
     "metadata": {},
     "output_type": "execute_result"
    }
   ],
   "source": [
    "ownership_dict = {value: index for index, value in enumerate(ownership_status_list)}\n",
    "ownership_dict"
   ]
  },
  {
   "cell_type": "code",
   "execution_count": 17,
   "metadata": {},
   "outputs": [],
   "source": [
    "raw_data['home_ownership_mapped'] = raw_data.home_ownership.map(ownership_dict)"
   ]
  },
  {
   "cell_type": "markdown",
   "metadata": {},
   "source": [
    "### 1.6 Formatting Salary Verification Column (Creating new mapped column)"
   ]
  },
  {
   "cell_type": "code",
   "execution_count": 18,
   "metadata": {},
   "outputs": [],
   "source": [
    "salary_verify_status_list = list(raw_data.verification_status.unique())\n",
    "salary_verify_status_list.sort()"
   ]
  },
  {
   "cell_type": "code",
   "execution_count": 19,
   "metadata": {},
   "outputs": [
    {
     "data": {
      "text/plain": [
       "{'Not Verified': 0, 'Source Verified': 1, 'Verified': 2}"
      ]
     },
     "execution_count": 19,
     "metadata": {},
     "output_type": "execute_result"
    }
   ],
   "source": [
    "income_verification_dict = {value: index for index, value in enumerate(salary_verify_status_list)}\n",
    "income_verification_dict"
   ]
  },
  {
   "cell_type": "code",
   "execution_count": 20,
   "metadata": {},
   "outputs": [],
   "source": [
    "raw_data['verification_status_mapped'] = raw_data.verification_status.map(income_verification_dict)"
   ]
  },
  {
   "cell_type": "markdown",
   "metadata": {},
   "source": [
    "### 1.7 Formatting Loan Issue Date to datetime object"
   ]
  },
  {
   "cell_type": "code",
   "execution_count": 21,
   "metadata": {},
   "outputs": [],
   "source": [
    "raw_data['issue_d'] = pd.to_datetime(raw_data.issue_d, format='%b-%y')"
   ]
  },
  {
   "cell_type": "markdown",
   "metadata": {},
   "source": [
    "### 1.8 Formatting Loan Status Column (Creating new mapped column)"
   ]
  },
  {
   "cell_type": "code",
   "execution_count": 22,
   "metadata": {},
   "outputs": [],
   "source": [
    "loan_status_list = list(raw_data.loan_status.unique())\n",
    "loan_status_list.sort()"
   ]
  },
  {
   "cell_type": "code",
   "execution_count": 23,
   "metadata": {},
   "outputs": [
    {
     "data": {
      "text/plain": [
       "{'Charged Off': 0, 'Current': 1, 'Fully Paid': 2}"
      ]
     },
     "execution_count": 23,
     "metadata": {},
     "output_type": "execute_result"
    }
   ],
   "source": [
    "loan_status_dict = {value: index for index, value in enumerate(loan_status_list)}\n",
    "loan_status_dict"
   ]
  },
  {
   "cell_type": "code",
   "execution_count": 24,
   "metadata": {},
   "outputs": [],
   "source": [
    "raw_data['loan_status_mapped'] = raw_data.loan_status.map(loan_status_dict)"
   ]
  },
  {
   "cell_type": "markdown",
   "metadata": {},
   "source": [
    "### 1.9 Payment Plan Column can be dropped off, as all the records in this column contains same value"
   ]
  },
  {
   "cell_type": "code",
   "execution_count": 25,
   "metadata": {},
   "outputs": [],
   "source": [
    "if 'pymnt_plan' in raw_data.columns:\n",
    "    raw_data = raw_data.drop(columns=['pymnt_plan'])"
   ]
  },
  {
   "cell_type": "markdown",
   "metadata": {},
   "source": [
    "### 1.10 Formatting Purpose Column"
   ]
  },
  {
   "cell_type": "code",
   "execution_count": 26,
   "metadata": {},
   "outputs": [],
   "source": [
    "raw_data['purpose'] = raw_data.purpose.apply(lambda x: x.replace('_', ' ').title())"
   ]
  },
  {
   "cell_type": "markdown",
   "metadata": {},
   "source": [
    "### 1.11 Mapping Address State Column With Complete State Name"
   ]
  },
  {
   "cell_type": "markdown",
   "metadata": {},
   "source": [
    "##### Creating a dictionary of all the states In US and their respective state abbreviation"
   ]
  },
  {
   "cell_type": "code",
   "execution_count": 27,
   "metadata": {},
   "outputs": [],
   "source": [
    "full_state_list = {'AL': 'Alabama', 'AK': 'Alaska', 'AZ': 'Arizona', 'AR': 'Arkansas', 'CA': 'California', 'CO': 'Colorado', 'CT': 'Connecticut', 'DE': 'Delaware', 'FL': 'Florida', 'GA': 'Georgia', 'HI': 'Hawaii', 'ID': 'Idaho', 'IL': 'Illinois', 'IN': 'Indiana', 'IA': 'Iowa', 'KS': 'Kansas', 'KY': 'Kentucky', 'LA': 'Louisiana', 'ME': 'Maine', 'MD': 'Maryland', 'MA': 'Massachusetts', 'MI': 'Michigan', 'MN': 'Minnesota', 'MS': 'Mississippi', 'MO': 'Missouri', 'MT': 'Montana', 'NE': 'Nebraska', 'NV': 'Nevada', 'NH': 'New Hampshire', 'NJ': 'New Jersey', 'NM': 'New Mexico', 'NY': 'New York', 'NC': 'North Carolina', 'ND': 'North Dakota', 'OH': 'Ohio', 'OK': 'Oklahoma', 'OR': 'Oregon', 'PA': 'Pennsylvania', 'RI': 'Rhode Island', 'SC': 'South Carolina', 'SD': 'South Dakota', 'TN': 'Tennessee', 'TX': 'Texas', 'UT': 'Utah', 'VT': 'Vermont', 'VA': 'Virginia', 'WA': 'Washington', 'WV': 'West Virginia', 'WI': 'Wisconsin', 'WY': 'Wyoming'}"
   ]
  },
  {
   "cell_type": "code",
   "execution_count": 28,
   "metadata": {},
   "outputs": [],
   "source": [
    "raw_data['addr_state_name'] = raw_data.addr_state.map(full_state_list)"
   ]
  },
  {
   "cell_type": "markdown",
   "metadata": {},
   "source": [
    "### 1.12 Formatting Earliest Credit Line Column to Valid Date object"
   ]
  },
  {
   "cell_type": "code",
   "execution_count": 29,
   "metadata": {},
   "outputs": [],
   "source": [
    "raw_data['earliest_cr_line'] = pd.to_datetime(raw_data.earliest_cr_line, format='%b-%y')"
   ]
  },
  {
   "cell_type": "code",
   "execution_count": 30,
   "metadata": {},
   "outputs": [
    {
     "name": "stderr",
     "output_type": "stream",
     "text": [
      "<ipython-input-30-ddce41ebc1d2>:1: FutureWarning: Treating datetime data as categorical rather than numeric in `.describe` is deprecated and will be removed in a future version of pandas. Specify `datetime_is_numeric=True` to silence this warning and adopt the future behavior now.\n",
      "  raw_data.earliest_cr_line.describe()\n"
     ]
    },
    {
     "data": {
      "text/plain": [
       "count                   39717\n",
       "unique                    526\n",
       "top       1998-11-01 00:00:00\n",
       "freq                      370\n",
       "first     1969-02-01 00:00:00\n",
       "last      2068-12-01 00:00:00\n",
       "Name: earliest_cr_line, dtype: object"
      ]
     },
     "execution_count": 30,
     "metadata": {},
     "output_type": "execute_result"
    }
   ],
   "source": [
    "raw_data.earliest_cr_line.describe()"
   ]
  },
  {
   "cell_type": "markdown",
   "metadata": {},
   "source": [
    "### 1.13 Formatting Months Since Last Delinq(Default) & Months Since Last Record Column to Valid format"
   ]
  },
  {
   "cell_type": "code",
   "execution_count": 31,
   "metadata": {},
   "outputs": [],
   "source": [
    "def clean_months_since_last_column(row):\n",
    "    if type(row) == str:\n",
    "        return np.nan\n",
    "    else:\n",
    "        return float(row)"
   ]
  },
  {
   "cell_type": "code",
   "execution_count": 32,
   "metadata": {},
   "outputs": [],
   "source": [
    "raw_data['mths_since_last_delinq'] = raw_data.mths_since_last_delinq.apply(clean_months_since_last_column)"
   ]
  },
  {
   "cell_type": "code",
   "execution_count": 33,
   "metadata": {},
   "outputs": [],
   "source": [
    "raw_data['mths_since_last_record'] = raw_data.mths_since_last_record.apply(clean_months_since_last_column)"
   ]
  },
  {
   "cell_type": "markdown",
   "metadata": {},
   "source": [
    "### 1.14 Formatting Months Since Last Delinq(Default) & Months Since Last Record Column to Valid format"
   ]
  },
  {
   "cell_type": "code",
   "execution_count": 34,
   "metadata": {},
   "outputs": [],
   "source": [
    "raw_data['revol_util'] = raw_data.revol_util.apply(extract_valid_float_from_interest_column)"
   ]
  },
  {
   "cell_type": "markdown",
   "metadata": {},
   "source": [
    "### 1.15 Initial Status Column can be dropped off, as all the records in this column contains same value."
   ]
  },
  {
   "cell_type": "code",
   "execution_count": 35,
   "metadata": {},
   "outputs": [],
   "source": [
    "if 'initial_list_status' in raw_data.columns:\n",
    "    raw_data = raw_data.drop(columns=['initial_list_status'])"
   ]
  },
  {
   "cell_type": "code",
   "execution_count": 36,
   "metadata": {},
   "outputs": [
    {
     "data": {
      "text/plain": [
       "dtype('float64')"
      ]
     },
     "execution_count": 36,
     "metadata": {},
     "output_type": "execute_result"
    }
   ],
   "source": [
    "raw_data.out_prncp_inv.dtypes"
   ]
  },
  {
   "cell_type": "markdown",
   "metadata": {},
   "source": [
    "### 1.16 Formatting Last Payment, Next Payment & Last Credit Pull Date Column to Valid format"
   ]
  },
  {
   "cell_type": "code",
   "execution_count": 37,
   "metadata": {},
   "outputs": [],
   "source": [
    "raw_data['last_pymnt_d'] = pd.to_datetime(raw_data.last_pymnt_d, format='%b-%y')"
   ]
  },
  {
   "cell_type": "code",
   "execution_count": 38,
   "metadata": {},
   "outputs": [],
   "source": [
    "raw_data['next_pymnt_d'] = pd.to_datetime(raw_data.next_pymnt_d, format='%b-%y')"
   ]
  },
  {
   "cell_type": "code",
   "execution_count": 39,
   "metadata": {},
   "outputs": [],
   "source": [
    "raw_data['last_credit_pull_d'] = pd.to_datetime(raw_data.last_credit_pull_d, format='%b-%y')"
   ]
  },
  {
   "cell_type": "markdown",
   "metadata": {},
   "source": [
    "### 1.17 Application Type Column can be dropped off, as all the records in this column contains same value."
   ]
  },
  {
   "cell_type": "code",
   "execution_count": 40,
   "metadata": {},
   "outputs": [],
   "source": [
    "if 'application_type' in raw_data.columns:\n",
    "    raw_data = raw_data.drop(columns=['application_type'])"
   ]
  },
  {
   "cell_type": "markdown",
   "metadata": {},
   "source": [
    "### 1.18 All the columns after Application Type Column are in the correct format (i.e. float value). Hence, those columns need not have to be cleaned"
   ]
  },
  {
   "cell_type": "markdown",
   "metadata": {},
   "source": [
    "# ==> 2. Comparing Data Between Charged Off & Fully Paid Customers <=="
   ]
  },
  {
   "cell_type": "code",
   "execution_count": 41,
   "metadata": {},
   "outputs": [],
   "source": [
    "charged_off_df = raw_data[raw_data['loan_status'] == 'Charged Off']"
   ]
  },
  {
   "cell_type": "code",
   "execution_count": 42,
   "metadata": {},
   "outputs": [],
   "source": [
    "fully_paid_df = raw_data[raw_data['loan_status'] == 'Fully Paid']"
   ]
  },
  {
   "cell_type": "markdown",
   "metadata": {},
   "source": [
    "### 2.1 Comparing if \"Term\" Column Impacts Defaulter / Paid Status"
   ]
  },
  {
   "cell_type": "code",
   "execution_count": 43,
   "metadata": {},
   "outputs": [
    {
     "data": {
      "text/html": [
       "<div>\n",
       "<style scoped>\n",
       "    .dataframe tbody tr th:only-of-type {\n",
       "        vertical-align: middle;\n",
       "    }\n",
       "\n",
       "    .dataframe tbody tr th {\n",
       "        vertical-align: top;\n",
       "    }\n",
       "\n",
       "    .dataframe thead th {\n",
       "        text-align: right;\n",
       "    }\n",
       "</style>\n",
       "<table border=\"1\" class=\"dataframe\">\n",
       "  <thead>\n",
       "    <tr style=\"text-align: right;\">\n",
       "      <th></th>\n",
       "      <th>Charged Off</th>\n",
       "      <th>Fully Paid</th>\n",
       "    </tr>\n",
       "    <tr>\n",
       "      <th>term</th>\n",
       "      <th></th>\n",
       "      <th></th>\n",
       "    </tr>\n",
       "  </thead>\n",
       "  <tbody>\n",
       "    <tr>\n",
       "      <th>36</th>\n",
       "      <td>57.348498</td>\n",
       "      <td>78.509863</td>\n",
       "    </tr>\n",
       "    <tr>\n",
       "      <th>60</th>\n",
       "      <td>42.651502</td>\n",
       "      <td>21.490137</td>\n",
       "    </tr>\n",
       "  </tbody>\n",
       "</table>\n",
       "</div>"
      ],
      "text/plain": [
       "      Charged Off  Fully Paid\n",
       "term                         \n",
       "36      57.348498   78.509863\n",
       "60      42.651502   21.490137"
      ]
     },
     "execution_count": 43,
     "metadata": {},
     "output_type": "execute_result"
    }
   ],
   "source": [
    "charged_off = charged_off_df.groupby(by='term').term.count() / len(charged_off_df) * 100\n",
    "charged_off = charged_off.rename(\"Charged Off\")\n",
    "fully_paid = fully_paid_df.groupby(by='term').term.count() / len(fully_paid_df) * 100\n",
    "fully_paid = fully_paid.rename(\"Fully Paid\")\n",
    "pd.concat([charged_off, fully_paid], axis=1, join='outer')\n",
    "# raw_data.groupby(by=['loan_status', 'term']).term.count()"
   ]
  },
  {
   "cell_type": "markdown",
   "metadata": {},
   "source": [
    "### 2.3 Comparing if \"Verification Status\" Column Impacts Defaulter / Paid Status"
   ]
  },
  {
   "cell_type": "code",
   "execution_count": 44,
   "metadata": {},
   "outputs": [
    {
     "data": {
      "text/html": [
       "<div>\n",
       "<style scoped>\n",
       "    .dataframe tbody tr th:only-of-type {\n",
       "        vertical-align: middle;\n",
       "    }\n",
       "\n",
       "    .dataframe tbody tr th {\n",
       "        vertical-align: top;\n",
       "    }\n",
       "\n",
       "    .dataframe thead th {\n",
       "        text-align: right;\n",
       "    }\n",
       "</style>\n",
       "<table border=\"1\" class=\"dataframe\">\n",
       "  <thead>\n",
       "    <tr style=\"text-align: right;\">\n",
       "      <th></th>\n",
       "      <th>Charged Off</th>\n",
       "      <th>Fully Paid</th>\n",
       "    </tr>\n",
       "    <tr>\n",
       "      <th>verification_status</th>\n",
       "      <th></th>\n",
       "      <th></th>\n",
       "    </tr>\n",
       "  </thead>\n",
       "  <tbody>\n",
       "    <tr>\n",
       "      <th>Not Verified</th>\n",
       "      <td>38.066465</td>\n",
       "      <td>44.163885</td>\n",
       "    </tr>\n",
       "    <tr>\n",
       "      <th>Source Verified</th>\n",
       "      <td>25.484272</td>\n",
       "      <td>25.016692</td>\n",
       "    </tr>\n",
       "    <tr>\n",
       "      <th>Verified</th>\n",
       "      <td>36.449262</td>\n",
       "      <td>30.819423</td>\n",
       "    </tr>\n",
       "  </tbody>\n",
       "</table>\n",
       "</div>"
      ],
      "text/plain": [
       "                     Charged Off  Fully Paid\n",
       "verification_status                         \n",
       "Not Verified           38.066465   44.163885\n",
       "Source Verified        25.484272   25.016692\n",
       "Verified               36.449262   30.819423"
      ]
     },
     "execution_count": 44,
     "metadata": {},
     "output_type": "execute_result"
    }
   ],
   "source": [
    "charged_off = charged_off_df.groupby(by='verification_status').verification_status.count() / len(charged_off_df) * 100\n",
    "charged_off = charged_off.rename(\"Charged Off\")\n",
    "fully_paid = fully_paid_df.groupby(by='verification_status').verification_status.count() / len(fully_paid_df) * 100\n",
    "fully_paid = fully_paid.rename(\"Fully Paid\")\n",
    "pd.concat([charged_off, fully_paid], axis=1, join='outer')\n",
    "# raw_data.groupby(by=['loan_status', 'verification_status']).verification_status.count()"
   ]
  },
  {
   "cell_type": "markdown",
   "metadata": {},
   "source": [
    "##### Note: Values are almost the same for Charged Off & Fully Paid Customers. So it does not provide great insight"
   ]
  },
  {
   "cell_type": "markdown",
   "metadata": {},
   "source": [
    "### 2.4 Comparing if \"Purpose\" Column Impacts Defaulter / Paid Status"
   ]
  },
  {
   "cell_type": "code",
   "execution_count": 45,
   "metadata": {},
   "outputs": [
    {
     "data": {
      "text/html": [
       "<div>\n",
       "<style scoped>\n",
       "    .dataframe tbody tr th:only-of-type {\n",
       "        vertical-align: middle;\n",
       "    }\n",
       "\n",
       "    .dataframe tbody tr th {\n",
       "        vertical-align: top;\n",
       "    }\n",
       "\n",
       "    .dataframe thead th {\n",
       "        text-align: right;\n",
       "    }\n",
       "</style>\n",
       "<table border=\"1\" class=\"dataframe\">\n",
       "  <thead>\n",
       "    <tr style=\"text-align: right;\">\n",
       "      <th></th>\n",
       "      <th>Charged Off</th>\n",
       "      <th>Fully Paid</th>\n",
       "    </tr>\n",
       "  </thead>\n",
       "  <tbody>\n",
       "    <tr>\n",
       "      <th>Debt Consolidation</th>\n",
       "      <td>49.173627</td>\n",
       "      <td>46.397572</td>\n",
       "    </tr>\n",
       "    <tr>\n",
       "      <th>Other</th>\n",
       "      <td>11.249334</td>\n",
       "      <td>9.808801</td>\n",
       "    </tr>\n",
       "    <tr>\n",
       "      <th>Credit Card</th>\n",
       "      <td>9.632131</td>\n",
       "      <td>13.611533</td>\n",
       "    </tr>\n",
       "    <tr>\n",
       "      <th>Small Business</th>\n",
       "      <td>8.441443</td>\n",
       "      <td>3.881639</td>\n",
       "    </tr>\n",
       "    <tr>\n",
       "      <th>Home Improvement</th>\n",
       "      <td>6.166696</td>\n",
       "      <td>7.672231</td>\n",
       "    </tr>\n",
       "    <tr>\n",
       "      <th>Major Purchase</th>\n",
       "      <td>3.945264</td>\n",
       "      <td>5.851290</td>\n",
       "    </tr>\n",
       "    <tr>\n",
       "      <th>Car</th>\n",
       "      <td>2.843433</td>\n",
       "      <td>4.063733</td>\n",
       "    </tr>\n",
       "    <tr>\n",
       "      <th>Medical</th>\n",
       "      <td>1.883775</td>\n",
       "      <td>1.745068</td>\n",
       "    </tr>\n",
       "    <tr>\n",
       "      <th>Wedding</th>\n",
       "      <td>1.706060</td>\n",
       "      <td>2.518968</td>\n",
       "    </tr>\n",
       "    <tr>\n",
       "      <th>Moving</th>\n",
       "      <td>1.634974</td>\n",
       "      <td>1.468892</td>\n",
       "    </tr>\n",
       "    <tr>\n",
       "      <th>House</th>\n",
       "      <td>1.048516</td>\n",
       "      <td>0.934750</td>\n",
       "    </tr>\n",
       "    <tr>\n",
       "      <th>Educational</th>\n",
       "      <td>0.995202</td>\n",
       "      <td>0.816388</td>\n",
       "    </tr>\n",
       "    <tr>\n",
       "      <th>Vacation</th>\n",
       "      <td>0.941887</td>\n",
       "      <td>0.977238</td>\n",
       "    </tr>\n",
       "    <tr>\n",
       "      <th>Renewable Energy</th>\n",
       "      <td>0.337658</td>\n",
       "      <td>0.251897</td>\n",
       "    </tr>\n",
       "  </tbody>\n",
       "</table>\n",
       "</div>"
      ],
      "text/plain": [
       "                    Charged Off  Fully Paid\n",
       "Debt Consolidation    49.173627   46.397572\n",
       "Other                 11.249334    9.808801\n",
       "Credit Card            9.632131   13.611533\n",
       "Small Business         8.441443    3.881639\n",
       "Home Improvement       6.166696    7.672231\n",
       "Major Purchase         3.945264    5.851290\n",
       "Car                    2.843433    4.063733\n",
       "Medical                1.883775    1.745068\n",
       "Wedding                1.706060    2.518968\n",
       "Moving                 1.634974    1.468892\n",
       "House                  1.048516    0.934750\n",
       "Educational            0.995202    0.816388\n",
       "Vacation               0.941887    0.977238\n",
       "Renewable Energy       0.337658    0.251897"
      ]
     },
     "execution_count": 45,
     "metadata": {},
     "output_type": "execute_result"
    }
   ],
   "source": [
    "charged_off = charged_off_df.groupby(by='purpose').purpose.count().sort_values(ascending=False) / len(charged_off_df) * 100\n",
    "charged_off = charged_off.rename(\"Charged Off\")\n",
    "fully_paid = fully_paid_df.groupby(by='purpose').purpose.count().sort_values(ascending=False) / len(fully_paid_df) * 100\n",
    "fully_paid = fully_paid.rename(\"Fully Paid\")\n",
    "pd.concat([charged_off, fully_paid], axis=1, join='outer')\n",
    "# raw_data.groupby(by=['loan_status', 'purpose']).purpose.count()"
   ]
  },
  {
   "cell_type": "markdown",
   "metadata": {},
   "source": [
    "##### Note: Values are almost the same for Charged Off & Fully Paid Customers. So it does not provide great insight"
   ]
  },
  {
   "cell_type": "markdown",
   "metadata": {},
   "source": [
    "### 2.4 Comparing if \"Home Ownership\" Column Impacts Defaulter / Paid Status"
   ]
  },
  {
   "cell_type": "code",
   "execution_count": 46,
   "metadata": {},
   "outputs": [
    {
     "data": {
      "text/html": [
       "<div>\n",
       "<style scoped>\n",
       "    .dataframe tbody tr th:only-of-type {\n",
       "        vertical-align: middle;\n",
       "    }\n",
       "\n",
       "    .dataframe tbody tr th {\n",
       "        vertical-align: top;\n",
       "    }\n",
       "\n",
       "    .dataframe thead th {\n",
       "        text-align: right;\n",
       "    }\n",
       "</style>\n",
       "<table border=\"1\" class=\"dataframe\">\n",
       "  <thead>\n",
       "    <tr style=\"text-align: right;\">\n",
       "      <th></th>\n",
       "      <th>Charged Off</th>\n",
       "      <th>Fully Paid</th>\n",
       "    </tr>\n",
       "  </thead>\n",
       "  <tbody>\n",
       "    <tr>\n",
       "      <th>RENT</th>\n",
       "      <td>50.453172</td>\n",
       "      <td>47.468892</td>\n",
       "    </tr>\n",
       "    <tr>\n",
       "      <th>MORTGAGE</th>\n",
       "      <td>41.354185</td>\n",
       "      <td>44.594841</td>\n",
       "    </tr>\n",
       "    <tr>\n",
       "      <th>OWN</th>\n",
       "      <td>7.872756</td>\n",
       "      <td>7.684370</td>\n",
       "    </tr>\n",
       "    <tr>\n",
       "      <th>OTHER</th>\n",
       "      <td>0.319886</td>\n",
       "      <td>0.242792</td>\n",
       "    </tr>\n",
       "    <tr>\n",
       "      <th>NONE</th>\n",
       "      <td>NaN</td>\n",
       "      <td>0.009105</td>\n",
       "    </tr>\n",
       "  </tbody>\n",
       "</table>\n",
       "</div>"
      ],
      "text/plain": [
       "          Charged Off  Fully Paid\n",
       "RENT        50.453172   47.468892\n",
       "MORTGAGE    41.354185   44.594841\n",
       "OWN          7.872756    7.684370\n",
       "OTHER        0.319886    0.242792\n",
       "NONE              NaN    0.009105"
      ]
     },
     "execution_count": 46,
     "metadata": {},
     "output_type": "execute_result"
    }
   ],
   "source": [
    "charged_off = charged_off_df.groupby(by='home_ownership').home_ownership.count().sort_values(ascending=False) / len(charged_off_df) * 100\n",
    "charged_off = charged_off.rename(\"Charged Off\")\n",
    "fully_paid = fully_paid_df.groupby(by='home_ownership').home_ownership.count().sort_values(ascending=False) / len(fully_paid_df) * 100\n",
    "fully_paid = fully_paid.rename(\"Fully Paid\")\n",
    "pd.concat([charged_off, fully_paid], axis=1, join='outer')\n",
    "# raw_data.groupby(by=['loan_status', 'home_ownership']).home_ownership.count()"
   ]
  },
  {
   "cell_type": "markdown",
   "metadata": {},
   "source": [
    "##### Note: Values are almost the same for Charged Off & Fully Paid Customers. So it does not provide great insight"
   ]
  },
  {
   "cell_type": "markdown",
   "metadata": {},
   "source": [
    "### 2.4 Comparing if \"DTI\" Column Impacts Defaulter / Paid Status"
   ]
  },
  {
   "cell_type": "code",
   "execution_count": 47,
   "metadata": {},
   "outputs": [
    {
     "data": {
      "text/plain": [
       "count    5627.000000\n",
       "mean       14.000624\n",
       "std         6.585577\n",
       "min         0.000000\n",
       "25%         9.050000\n",
       "50%        14.290000\n",
       "75%        19.290000\n",
       "max        29.850000\n",
       "Name: dti, dtype: float64"
      ]
     },
     "execution_count": 47,
     "metadata": {},
     "output_type": "execute_result"
    }
   ],
   "source": [
    "charged_off_df.dti.describe()"
   ]
  },
  {
   "cell_type": "code",
   "execution_count": 48,
   "metadata": {},
   "outputs": [
    {
     "data": {
      "text/plain": [
       "count    32950.000000\n",
       "mean        13.148421\n",
       "std          6.680041\n",
       "min          0.000000\n",
       "25%          7.980000\n",
       "50%         13.200000\n",
       "75%         18.390000\n",
       "max         29.990000\n",
       "Name: dti, dtype: float64"
      ]
     },
     "execution_count": 48,
     "metadata": {},
     "output_type": "execute_result"
    }
   ],
   "source": [
    "fully_paid_df.dti.describe()"
   ]
  },
  {
   "cell_type": "code",
   "execution_count": null,
   "metadata": {},
   "outputs": [],
   "source": []
  }
 ],
 "metadata": {
  "kernelspec": {
   "display_name": "Python 3",
   "language": "python",
   "name": "python3"
  },
  "language_info": {
   "codemirror_mode": {
    "name": "ipython",
    "version": 3
   },
   "file_extension": ".py",
   "mimetype": "text/x-python",
   "name": "python",
   "nbconvert_exporter": "python",
   "pygments_lexer": "ipython3",
   "version": "3.8.5"
  }
 },
 "nbformat": 4,
 "nbformat_minor": 4
}
